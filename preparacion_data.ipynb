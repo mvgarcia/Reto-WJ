{
  "nbformat": 4,
  "nbformat_minor": 0,
  "metadata": {
    "colab": {
      "name": "preparacion_data.ipynb",
      "provenance": [],
      "collapsed_sections": [],
      "include_colab_link": true
    },
    "kernelspec": {
      "name": "python3",
      "display_name": "Python 3"
    },
    "language_info": {
      "name": "python"
    }
  },
  "cells": [
    {
      "cell_type": "markdown",
      "metadata": {
        "id": "view-in-github",
        "colab_type": "text"
      },
      "source": [
        "<a href=\"https://colab.research.google.com/github/mvgarcia/Reto-WJ/blob/main/preparacion_data.ipynb\" target=\"_parent\"><img src=\"https://colab.research.google.com/assets/colab-badge.svg\" alt=\"Open In Colab\"/></a>"
      ]
    },
    {
      "cell_type": "markdown",
      "metadata": {
        "id": "LBgf34CdFjEv"
      },
      "source": [
        "##Carga de los datos y las librerias"
      ]
    },
    {
      "cell_type": "markdown",
      "metadata": {
        "id": "ezSFJpw9uT61"
      },
      "source": [
        "Importamos drive "
      ]
    },
    {
      "cell_type": "code",
      "metadata": {
        "colab": {
          "base_uri": "https://localhost:8080/"
        },
        "id": "V4I7j-RfuRRO",
        "outputId": "b3137ca1-b41e-4646-d8e6-5481f174e2ba"
      },
      "source": [
        "from google.colab import drive\n",
        "drive.mount('/content/drive')"
      ],
      "execution_count": null,
      "outputs": [
        {
          "output_type": "stream",
          "name": "stdout",
          "text": [
            "Mounted at /content/drive\n"
          ]
        }
      ]
    },
    {
      "cell_type": "markdown",
      "metadata": {
        "id": "8pU5md_FKpsW"
      },
      "source": [
        "Importamos de las librerías necesarias"
      ]
    },
    {
      "cell_type": "code",
      "metadata": {
        "id": "3geeo_bI9Gak"
      },
      "source": [
        "import matplotlib.pyplot as plt\n",
        "import pandas as pd\n",
        "import numpy as np\n",
        "import glob\n",
        "from shutil import copyfile\n",
        "from tqdm.notebook import tqdm\n",
        "import urllib.request\n",
        "from PIL import Image\n",
        "pd.options.mode.chained_assignment = None  "
      ],
      "execution_count": null,
      "outputs": []
    },
    {
      "cell_type": "markdown",
      "metadata": {
        "id": "z0k1vVxuKuhV"
      },
      "source": [
        "Leemos los datos y filtramos según las variables que vamos a utilizar para la clasificación:\n",
        "\n",
        "*   **Percepción** de la persona respecto a la imagen\n",
        "*   **Sentiment_value**, que cuantiza la intensidad y confiabilidad de la percepción\n",
        "\n"
      ]
    },
    {
      "cell_type": "code",
      "metadata": {
        "id": "gwJr_SWM9zr9"
      },
      "source": [
        "df = pd.read_csv('https://query.data.world/s/q2gk5jdoaxu7atza6zlejks763uqwi')\n",
        "df.drop('_unit_state', axis=1, inplace=True)\n",
        "df.drop('_golden', axis=1, inplace=True)\n",
        "df.drop('_trusted_judgments', axis=1, inplace=True)\n",
        "df.drop('_last_judgment_at', axis=1, inplace=True)\n",
        "df.drop('which_of_these_sentiment_scores_does_the_above_image_fit_into_best_gold', axis=1, inplace=True)\n",
        "df.drop('which_of_these_sentiment_scores_does_the_above_image_fit_into_best_gold_reason', axis=1, inplace=True)\n",
        "df.reset_index(inplace=True)\n",
        "\n",
        "df['sentiment'] = [0]*len(df)\n",
        "columns = ['name', 'id', 'perception', 'sentiment_value', 'img_url', 'sentiment']\n",
        "df.columns = columns\n",
        "\n",
        "df['name'] = ['{}.png'.format(x) for x in df['name']]\n",
        "df.set_index(['name'], inplace=True)"
      ],
      "execution_count": null,
      "outputs": []
    },
    {
      "cell_type": "markdown",
      "metadata": {
        "id": "OkYyw55Zvwn-"
      },
      "source": [
        "Descargamos todas las imágenes y las guardamos en una carpeta. El try-except está hecho debido a que algunos links estaban caídos."
      ]
    },
    {
      "cell_type": "code",
      "metadata": {
        "id": "fFRISqpUv9tL"
      },
      "source": [
        "urls=df['img_url']\n",
        "\n",
        "for i in tqdm(range(len(urls))):\n",
        "    try:\n",
        "        urllib.request.urlretrieve(urls[i],\"/content/drive/MyDrive/Reto/dataset/{}/{}.png\".format(df['sentiment'][i],i))\n",
        "    except:\n",
        "        pass"
      ],
      "execution_count": null,
      "outputs": []
    },
    {
      "cell_type": "markdown",
      "metadata": {
        "id": "ra66Du6j4ERN"
      },
      "source": [
        "Con todas las imágenes que pudieron descargarse, las filtramos del DataFrame original y descartamos las filas pertenecientes a los datos que no consideraremos."
      ]
    },
    {
      "cell_type": "code",
      "metadata": {
        "colab": {
          "base_uri": "https://localhost:8080/",
          "height": 450
        },
        "id": "D-nmeTVs45HV",
        "outputId": "bfb9a153-046a-4dc2-f489-ada2084db4da"
      },
      "source": [
        "imgs = []\n",
        "for i in range(5): \n",
        "  imgs += glob.glob(\"/content/drive/MyDrive/Reto/dataset/{}/*.png\".format(i))\n",
        "\n",
        "imgs = [x[38:] for x in imgs]\n",
        "mask_imgs = [x in imgs for x in np.array(df.index)]\n",
        "\n",
        "columns = ['id', 'perception', 'sentiment_value', 'img_url', 'sentiment']\n",
        "df = df[columns][mask_imgs]\n",
        "df"
      ],
      "execution_count": null,
      "outputs": [
        {
          "output_type": "execute_result",
          "data": {
            "text/html": [
              "<div>\n",
              "<style scoped>\n",
              "    .dataframe tbody tr th:only-of-type {\n",
              "        vertical-align: middle;\n",
              "    }\n",
              "\n",
              "    .dataframe tbody tr th {\n",
              "        vertical-align: top;\n",
              "    }\n",
              "\n",
              "    .dataframe thead th {\n",
              "        text-align: right;\n",
              "    }\n",
              "</style>\n",
              "<table border=\"1\" class=\"dataframe\">\n",
              "  <thead>\n",
              "    <tr style=\"text-align: right;\">\n",
              "      <th></th>\n",
              "      <th>id</th>\n",
              "      <th>perception</th>\n",
              "      <th>sentiment_value</th>\n",
              "      <th>img_url</th>\n",
              "      <th>sentiment</th>\n",
              "    </tr>\n",
              "    <tr>\n",
              "      <th>name</th>\n",
              "      <th></th>\n",
              "      <th></th>\n",
              "      <th></th>\n",
              "      <th></th>\n",
              "      <th></th>\n",
              "    </tr>\n",
              "  </thead>\n",
              "  <tbody>\n",
              "    <tr>\n",
              "      <th>0.png</th>\n",
              "      <td>694550568</td>\n",
              "      <td>Positive</td>\n",
              "      <td>0.6395</td>\n",
              "      <td>http://farm1.staticflickr.com/20/71235476_3103...</td>\n",
              "      <td>0</td>\n",
              "    </tr>\n",
              "    <tr>\n",
              "      <th>1.png</th>\n",
              "      <td>694550569</td>\n",
              "      <td>Positive</td>\n",
              "      <td>0.6458</td>\n",
              "      <td>http://farm4.staticflickr.com/3096/2584485524_...</td>\n",
              "      <td>0</td>\n",
              "    </tr>\n",
              "    <tr>\n",
              "      <th>2.png</th>\n",
              "      <td>694550570</td>\n",
              "      <td>Negative</td>\n",
              "      <td>0.8420</td>\n",
              "      <td>http://farm3.staticflickr.com/2880/11733997835...</td>\n",
              "      <td>0</td>\n",
              "    </tr>\n",
              "    <tr>\n",
              "      <th>3.png</th>\n",
              "      <td>694550571</td>\n",
              "      <td>Positive</td>\n",
              "      <td>0.7216</td>\n",
              "      <td>http://farm4.staticflickr.com/3022/2286937150_...</td>\n",
              "      <td>0</td>\n",
              "    </tr>\n",
              "    <tr>\n",
              "      <th>4.png</th>\n",
              "      <td>694550572</td>\n",
              "      <td>Positive</td>\n",
              "      <td>0.8801</td>\n",
              "      <td>http://farm1.staticflickr.com/163/357381033_d0...</td>\n",
              "      <td>0</td>\n",
              "    </tr>\n",
              "    <tr>\n",
              "      <th>...</th>\n",
              "      <td>...</td>\n",
              "      <td>...</td>\n",
              "      <td>...</td>\n",
              "      <td>...</td>\n",
              "      <td>...</td>\n",
              "    </tr>\n",
              "    <tr>\n",
              "      <th>15604.png</th>\n",
              "      <td>694566359</td>\n",
              "      <td>Positive</td>\n",
              "      <td>1.0000</td>\n",
              "      <td>http://farm3.static.flickr.com/2079/1564949179...</td>\n",
              "      <td>0</td>\n",
              "    </tr>\n",
              "    <tr>\n",
              "      <th>15607.png</th>\n",
              "      <td>694566362</td>\n",
              "      <td>Positive</td>\n",
              "      <td>1.0000</td>\n",
              "      <td>http://farm1.static.flickr.com/81/265693044_bc...</td>\n",
              "      <td>0</td>\n",
              "    </tr>\n",
              "    <tr>\n",
              "      <th>15608.png</th>\n",
              "      <td>694566363</td>\n",
              "      <td>Positive</td>\n",
              "      <td>0.6705</td>\n",
              "      <td>http://farm3.static.flickr.com/2198/1572103607...</td>\n",
              "      <td>0</td>\n",
              "    </tr>\n",
              "    <tr>\n",
              "      <th>15609.png</th>\n",
              "      <td>694566364</td>\n",
              "      <td>Positive</td>\n",
              "      <td>0.3373</td>\n",
              "      <td>http://farm1.static.flickr.com/100/263134442_6...</td>\n",
              "      <td>0</td>\n",
              "    </tr>\n",
              "    <tr>\n",
              "      <th>15610.png</th>\n",
              "      <td>694566365</td>\n",
              "      <td>Positive</td>\n",
              "      <td>0.6663</td>\n",
              "      <td>http://farm2.static.flickr.com/1360/1392747419...</td>\n",
              "      <td>0</td>\n",
              "    </tr>\n",
              "  </tbody>\n",
              "</table>\n",
              "<p>12596 rows × 5 columns</p>\n",
              "</div>"
            ],
            "text/plain": [
              "                  id  ... sentiment\n",
              "name                  ...          \n",
              "0.png      694550568  ...         0\n",
              "1.png      694550569  ...         0\n",
              "2.png      694550570  ...         0\n",
              "3.png      694550571  ...         0\n",
              "4.png      694550572  ...         0\n",
              "...              ...  ...       ...\n",
              "15604.png  694566359  ...         0\n",
              "15607.png  694566362  ...         0\n",
              "15608.png  694566363  ...         0\n",
              "15609.png  694566364  ...         0\n",
              "15610.png  694566365  ...         0\n",
              "\n",
              "[12596 rows x 5 columns]"
            ]
          },
          "metadata": {},
          "execution_count": 36
        }
      ]
    },
    {
      "cell_type": "markdown",
      "metadata": {
        "id": "xxOgWHg-GYov"
      },
      "source": [
        "Imprimimos un histograma que muestra la distribución de la percepción"
      ]
    },
    {
      "cell_type": "code",
      "metadata": {
        "colab": {
          "base_uri": "https://localhost:8080/",
          "height": 280
        },
        "id": "v83e3xiE97vS",
        "outputId": "1fbb7b76-bc15-4032-b513-2b2cbdd8a80e"
      },
      "source": [
        "plt.hist(df['perception'], align='mid', rwidth=0.5, bins=np.arange(6)-0.5, label='Percepciones')\n",
        "plt.xlabel('Percepción')\n",
        "plt.ylabel('Cantidad')\n",
        "plt.show()"
      ],
      "execution_count": null,
      "outputs": [
        {
          "output_type": "display_data",
          "data": {
            "image/png": "[encoded data removed]",
            "text/plain": [
              "<Figure size 432x288 with 1 Axes>"
            ]
          },
          "metadata": {
            "needs_background": "light"
          }
        }
      ]
    },
    {
      "cell_type": "markdown",
      "metadata": {
        "id": "jgpQDqMVGh8e"
      },
      "source": [
        "##Creación de las clases"
      ]
    },
    {
      "cell_type": "markdown",
      "metadata": {
        "id": "9HVn4jrX9_Jx"
      },
      "source": [
        "Definimos los seis sentimientos (clases) y los rangos del valor de sentiment_value (confidencia) sobre los cuales filtraremos los datos:\n",
        "\n",
        "* 0: **Miedo** - Highly negative y Negative (hasta 0.6686 en confidence).\n",
        "* 1: **Tristeza** - Negative (desde 0.6686 en confidence).\n",
        "* 2: **Neutro** - Neutral.\n",
        "* 3: **Bienestar** - Positive (hasta 0.667 en confidence).\n",
        "* 4: **Alegría** - Positive (desde 0.667 hasta 1 en confidence).\n",
        "* 5: **Euforia** - Highly positive y Positive (con confidencia de 1).\n",
        "\n",
        "Con estas máscaras, filtramos los datos y escribimos el resultado en la columna _sentiment_. Finalmente, imprimimos la cantidad de datos en cada clase realizamos un histograma."
      ]
    },
    {
      "cell_type": "code",
      "metadata": {
        "colab": {
          "base_uri": "https://localhost:8080/",
          "height": 398
        },
        "id": "x3Kvj-uQ98cQ",
        "outputId": "e482ca34-1ffb-4b7b-f05d-9fcf157ea219"
      },
      "source": [
        "#Máscaras a utilizar\n",
        "\n",
        "dif_miedo_tristeza = 0.6686\n",
        "dif_bienestar_alegria = 0.667\n",
        "dif_alegria_euforia = 1\n",
        "\n",
        "mask_miedo = (df['perception'] == 'Highly negative') | ((df['perception'] == 'Negative') & (df['sentiment_value'] >= dif_miedo_tristeza))\n",
        "mask_tristeza = (df['perception'] == 'Negative') & (df['sentiment_value'] < dif_miedo_tristeza)\n",
        "mask_neutro = (df['perception'] == 'Neutral') \n",
        "mask_bienestar = (df['perception'] == 'Positive') & (df['sentiment_value'] < dif_bienestar_alegria)\n",
        "mask_alegria = (df['perception'] == 'Positive') & (df['sentiment_value'] >= dif_bienestar_alegria) & (df['sentiment_value'] < dif_alegria_euforia)\n",
        "mask_euforia = (df['perception'] == 'Highly positive') | ((df['perception'] == 'Positive') & (df['sentiment_value'] >= dif_alegria_euforia))\n",
        "\n",
        "#Definimos las clases en la columna sentiment\n",
        "\n",
        "df['sentiment'][mask_miedo] = 0\n",
        "df['sentiment'][mask_tristeza] = 1\n",
        "df['sentiment'][mask_neutro] = 2\n",
        "df['sentiment'][mask_bienestar] = 3\n",
        "df['sentiment'][mask_alegria] = 4\n",
        "df['sentiment'][mask_euforia] = 5\n",
        "\n",
        "print('Cantidad miedo:  \\t{}'.format(len((df['sentiment_value'][mask_miedo]))))\n",
        "print('Cantidad tristeza: \\t{}'.format(len((df['sentiment_value'][mask_tristeza]))))\n",
        "print('Cantidad neutro: \\t{}'.format(len((df['sentiment_value'][mask_neutro]))))\n",
        "print('Cantidad bienestar:    \\t{}'.format(len((df['sentiment_value'][mask_bienestar]))))\n",
        "print('Cantidad alegria: \\t{}'.format(len((df['sentiment_value'][mask_alegria]))))\n",
        "print('Cantidad euforia: \\t{}'.format(len((df['sentiment_value'][mask_euforia]))))\n",
        "print('')\n",
        "\n",
        "plt.hist(df['sentiment'], align='mid', rwidth=0.5, bins=np.arange(7)-0.5, label='Clases') \n",
        "plt.legend()\n",
        "plt.xlabel('Clases')\n",
        "plt.ylabel('Cantidad')\n",
        "plt.show()"
      ],
      "execution_count": null,
      "outputs": [
        {
          "output_type": "stream",
          "name": "stdout",
          "text": [
            "Cantidad miedo:  \t1101\n",
            "Cantidad tristeza: \t1106\n",
            "Cantidad neutro: \t2068\n",
            "Cantidad bienestar:    \t2329\n",
            "Cantidad alegria: \t2315\n",
            "Cantidad euforia: \t3677\n",
            "\n"
          ]
        },
        {
          "output_type": "display_data",
          "data": {
            "image/png": "[encoded data removed]",
            "text/plain": [
              "<Figure size 432x288 with 1 Axes>"
            ]
          },
          "metadata": {
            "needs_background": "light"
          }
        }
      ]
    },
    {
      "cell_type": "markdown",
      "metadata": {
        "id": "cMwwUD7pFUTu"
      },
      "source": [
        "##Filtrado de las imágenes según Train o Test"
      ]
    },
    {
      "cell_type": "markdown",
      "metadata": {
        "id": "7dTV77NpwRf-"
      },
      "source": [
        "Con estas máscaras ya creadas, copiamos y pegamos un 90% de las imágenes en carpetas correspondientes según su clase pertenecientes a la carpeta de entrenamiento, el otro 10% lo usaremos en las de testeo."
      ]
    },
    {
      "cell_type": "code",
      "metadata": {
        "id": "mtli6tCucT98"
      },
      "source": [
        "imgs = []\n",
        "for i in range(5): \n",
        "  imgs += glob.glob(\"/content/drive/MyDrive/Reto/dataset/{}/*.png\".format(i))\n",
        "\n",
        "path = '/content/drive/MyDrive/Reto/data/'\n",
        "\n",
        "p_train = 0.9\n",
        "\n",
        "dicc_train = {'0':0, '1':0, '2':0, '3':0, '4':0, '5':0}\n",
        "len_list = [len((df['sentiment_value'][mask_miedo])),\n",
        "           len((df['sentiment_value'][mask_tristeza])),\n",
        "           len((df['sentiment_value'][mask_neutro])),\n",
        "           len((df['sentiment_value'][mask_bienestar])),\n",
        "           len((df['sentiment_value'][mask_alegria])),\n",
        "           len((df['sentiment_value'][mask_euforia]))]\n",
        "          \n",
        "for i in range(len(imgs)):\n",
        "  num = imgs[i][38:]\n",
        "  sentiment = df.loc[num]['sentiment']\n",
        " \n",
        "  if dicc_train[str(sentiment)]<p_train*len_list[sentiment]:\n",
        "    copyfile(imgs[i], '{}train/{}/{}'.format(path, sentiment, num))\n",
        "    dicc_train[str(sentiment)] = dicc_train[str(sentiment)] + 1\n",
        "    print('train{}'.format(imgs[i][35:]), 'train/{}/{}'.format(sentiment, num))\n",
        "  else:\n",
        "    copyfile(imgs[i], '{}test/{}/{}'.format(path, sentiment, num))\n",
        "    print('test{}'.format(imgs[i][35:]), 'test/{}/{}'.format(sentiment, num))"
      ],
      "execution_count": null,
      "outputs": []
    },
    {
      "cell_type": "markdown",
      "metadata": {
        "id": "4P-hpu7b-iSO"
      },
      "source": [
        "Y probamos que la suma de datos de entrenamiento y testeo sea la misma que el total anteriormente clasificado"
      ]
    },
    {
      "cell_type": "code",
      "metadata": {
        "colab": {
          "base_uri": "https://localhost:8080/"
        },
        "id": "NN2o9NTS4CRh",
        "outputId": "e43d1b96-1669-443c-9e25-79aeae7edb9e"
      },
      "source": [
        "print('Miedo train: \\t\\t{} \\t\\t Miedo test: \\t\\t{} \\t\\t Total: {}'.format(len(glob.glob('{}train/0/*.png'.format(path))), len(glob.glob('{}test/0/*.png'.format(path))),\n",
        "                                                                      len(glob.glob('{}train/0/*.png'.format(path))) + len(glob.glob('{}test/0/*.png'.format(path)))))\n",
        "print('Tristeza train: \\t{} \\t\\t Tristeza test: \\t{} \\t\\t Total: {}'.format(len(glob.glob('{}train/1/*.png'.format(path))), len(glob.glob('{}test/1/*.png'.format(path))),\n",
        "                                                                      len(glob.glob('{}train/1/*.png'.format(path))) + len(glob.glob('{}test/1/*.png'.format(path)))))\n",
        "print('Neutro train: \\t\\t{} \\t\\t Neutro test: \\t\\t{} \\t\\t Total: {}'.format(len(glob.glob('{}train/2/*.png'.format(path))), len(glob.glob('{}test/2/*.png'.format(path))),\n",
        "                                                                      len(glob.glob('{}train/2/*.png'.format(path))) + len(glob.glob('{}test/2/*.png'.format(path)))))\n",
        "print('Bienestar train: \\t{} \\t\\t Bienestar test: \\t{} \\t\\t Total: {}'.format(len(glob.glob('{}train/3/*.png'.format(path))), len(glob.glob('{}test/3/*.png'.format(path))),\n",
        "                                                                      len(glob.glob('{}train/3/*.png'.format(path))) + len(glob.glob('{}test/3/*.png'.format(path)))))\n",
        "print('Alegría train: \\t\\t{} \\t\\t Alegría test: \\t\\t{} \\t\\t Total: {}'.format(len(glob.glob('{}train/4/*.png'.format(path))), len(glob.glob('{}test/4/*.png'.format(path))),\n",
        "                                                                      len(glob.glob('{}train/4/*.png'.format(path))) + len(glob.glob('{}test/4/*.png'.format(path)))))\n",
        "print('Euforia train: \\t\\t{} \\t\\t Euforia test: \\t\\t{} \\t\\t Total: {}'.format(len(glob.glob('{}train/5/*.png'.format(path))), len(glob.glob('{}test/5/*.png'.format(path))),\n",
        "                                                                      len(glob.glob('{}train/5/*.png'.format(path))) + len(glob.glob('{}test/5/*.png'.format(path)))))"
      ],
      "execution_count": null,
      "outputs": [
        {
          "output_type": "stream",
          "name": "stdout",
          "text": [
            "Miedo train: \t\t991 \t\t Miedo test: \t\t110 \t\t Total: 1101\n",
            "Tristeza train: \t996 \t\t Tristeza test: \t110 \t\t Total: 1106\n",
            "Neutro train: \t\t1862 \t\t Neutro test: \t\t206 \t\t Total: 2068\n",
            "Bienestar train: \t2097 \t\t Bienestar test: \t232 \t\t Total: 2329\n",
            "Alegría train: \t\t2084 \t\t Alegría test: \t\t231 \t\t Total: 2315\n",
            "Euforia train: \t\t3310 \t\t Euforia test: \t\t367 \t\t Total: 3677\n"
          ]
        }
      ]
    },
    {
      "cell_type": "code",
      "metadata": {
        "id": "goEb-ouiEuKB"
      },
      "source": [
        ""
      ],
      "execution_count": null,
      "outputs": []
    }
  ]
}