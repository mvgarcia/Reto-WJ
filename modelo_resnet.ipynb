{
  "nbformat": 4,
  "nbformat_minor": 0,
  "metadata": {
    "colab": {
      "name": "modelo_resnet.ipynb",
      "provenance": [],
      "collapsed_sections": [],
      "include_colab_link": true
    },
    "kernelspec": {
      "name": "python3",
      "display_name": "Python 3"
    },
    "language_info": {
      "name": "python"
    },
    "widgets": {
      "application/vnd.jupyter.widget-state+json": {
        "3e917cd277ef48c88998815e986e5b63": {
          "model_module": "@jupyter-widgets/controls",
          "model_name": "HBoxModel",
          "model_module_version": "1.5.0",
          "state": {
            "_view_name": "HBoxView",
            "_dom_classes": [],
            "_model_name": "HBoxModel",
            "_view_module": "@jupyter-widgets/controls",
            "_model_module_version": "1.5.0",
            "_view_count": null,
            "_view_module_version": "1.5.0",
            "box_style": "",
            "layout": "IPY_MODEL_327fd1babbf749b98091f69f320d341b",
            "_model_module": "@jupyter-widgets/controls",
            "children": [
              "IPY_MODEL_46a1ccd8322546659e2c2a99af74c8aa",
              "IPY_MODEL_b6d01e1a1b0843a5b280090eb6be3d16",
              "IPY_MODEL_5e25695e39ce4970a0c3e2c99ba1145b"
            ]
          }
        },
        "327fd1babbf749b98091f69f320d341b": {
          "model_module": "@jupyter-widgets/base",
          "model_name": "LayoutModel",
          "model_module_version": "1.2.0",
          "state": {
            "_view_name": "LayoutView",
            "grid_template_rows": null,
            "right": null,
            "justify_content": null,
            "_view_module": "@jupyter-widgets/base",
            "overflow": null,
            "_model_module_version": "1.2.0",
            "_view_count": null,
            "flex_flow": null,
            "width": null,
            "min_width": null,
            "border": null,
            "align_items": null,
            "bottom": null,
            "_model_module": "@jupyter-widgets/base",
            "top": null,
            "grid_column": null,
            "overflow_y": null,
            "overflow_x": null,
            "grid_auto_flow": null,
            "grid_area": null,
            "grid_template_columns": null,
            "flex": null,
            "_model_name": "LayoutModel",
            "justify_items": null,
            "grid_row": null,
            "max_height": null,
            "align_content": null,
            "visibility": null,
            "align_self": null,
            "height": null,
            "min_height": null,
            "padding": null,
            "grid_auto_rows": null,
            "grid_gap": null,
            "max_width": null,
            "order": null,
            "_view_module_version": "1.2.0",
            "grid_template_areas": null,
            "object_position": null,
            "object_fit": null,
            "grid_auto_columns": null,
            "margin": null,
            "display": null,
            "left": null
          }
        },
        "46a1ccd8322546659e2c2a99af74c8aa": {
          "model_module": "@jupyter-widgets/controls",
          "model_name": "HTMLModel",
          "model_module_version": "1.5.0",
          "state": {
            "_view_name": "HTMLView",
            "style": "IPY_MODEL_45e51d87c77b467bb503454cf82bf4e2",
            "_dom_classes": [],
            "description": "",
            "_model_name": "HTMLModel",
            "placeholder": "​",
            "_view_module": "@jupyter-widgets/controls",
            "_model_module_version": "1.5.0",
            "value": "",
            "_view_count": null,
            "_view_module_version": "1.5.0",
            "description_tooltip": null,
            "_model_module": "@jupyter-widgets/controls",
            "layout": "IPY_MODEL_61cd30638afb45b2bbaa1f5334b775ce"
          }
        },
        "b6d01e1a1b0843a5b280090eb6be3d16": {
          "model_module": "@jupyter-widgets/controls",
          "model_name": "FloatProgressModel",
          "model_module_version": "1.5.0",
          "state": {
            "_view_name": "ProgressView",
            "style": "IPY_MODEL_cafcce35849c4165b053937044be7431",
            "_dom_classes": [],
            "description": "",
            "_model_name": "FloatProgressModel",
            "bar_style": "success",
            "max": 1,
            "_view_module": "@jupyter-widgets/controls",
            "_model_module_version": "1.5.0",
            "value": 1,
            "_view_count": null,
            "_view_module_version": "1.5.0",
            "orientation": "horizontal",
            "min": 0,
            "description_tooltip": null,
            "_model_module": "@jupyter-widgets/controls",
            "layout": "IPY_MODEL_ad019ab4edad445b8c6cb5af682d1ce6"
          }
        },
        "5e25695e39ce4970a0c3e2c99ba1145b": {
          "model_module": "@jupyter-widgets/controls",
          "model_name": "HTMLModel",
          "model_module_version": "1.5.0",
          "state": {
            "_view_name": "HTMLView",
            "style": "IPY_MODEL_175490e85ed745b89f9c23745944fbd2",
            "_dom_classes": [],
            "description": "",
            "_model_name": "HTMLModel",
            "placeholder": "​",
            "_view_module": "@jupyter-widgets/controls",
            "_model_module_version": "1.5.0",
            "value": " 11340/? [01:36&lt;00:00, 122.26it/s]",
            "_view_count": null,
            "_view_module_version": "1.5.0",
            "description_tooltip": null,
            "_model_module": "@jupyter-widgets/controls",
            "layout": "IPY_MODEL_6d3fde74f9dc48248b627e0b5c6900a1"
          }
        },
        "45e51d87c77b467bb503454cf82bf4e2": {
          "model_module": "@jupyter-widgets/controls",
          "model_name": "DescriptionStyleModel",
          "model_module_version": "1.5.0",
          "state": {
            "_view_name": "StyleView",
            "_model_name": "DescriptionStyleModel",
            "description_width": "",
            "_view_module": "@jupyter-widgets/base",
            "_model_module_version": "1.5.0",
            "_view_count": null,
            "_view_module_version": "1.2.0",
            "_model_module": "@jupyter-widgets/controls"
          }
        },
        "61cd30638afb45b2bbaa1f5334b775ce": {
          "model_module": "@jupyter-widgets/base",
          "model_name": "LayoutModel",
          "model_module_version": "1.2.0",
          "state": {
            "_view_name": "LayoutView",
            "grid_template_rows": null,
            "right": null,
            "justify_content": null,
            "_view_module": "@jupyter-widgets/base",
            "overflow": null,
            "_model_module_version": "1.2.0",
            "_view_count": null,
            "flex_flow": null,
            "width": null,
            "min_width": null,
            "border": null,
            "align_items": null,
            "bottom": null,
            "_model_module": "@jupyter-widgets/base",
            "top": null,
            "grid_column": null,
            "overflow_y": null,
            "overflow_x": null,
            "grid_auto_flow": null,
            "grid_area": null,
            "grid_template_columns": null,
            "flex": null,
            "_model_name": "LayoutModel",
            "justify_items": null,
            "grid_row": null,
            "max_height": null,
            "align_content": null,
            "visibility": null,
            "align_self": null,
            "height": null,
            "min_height": null,
            "padding": null,
            "grid_auto_rows": null,
            "grid_gap": null,
            "max_width": null,
            "order": null,
            "_view_module_version": "1.2.0",
            "grid_template_areas": null,
            "object_position": null,
            "object_fit": null,
            "grid_auto_columns": null,
            "margin": null,
            "display": null,
            "left": null
          }
        },
        "cafcce35849c4165b053937044be7431": {
          "model_module": "@jupyter-widgets/controls",
          "model_name": "ProgressStyleModel",
          "model_module_version": "1.5.0",
          "state": {
            "_view_name": "StyleView",
            "_model_name": "ProgressStyleModel",
            "description_width": "",
            "_view_module": "@jupyter-widgets/base",
            "_model_module_version": "1.5.0",
            "_view_count": null,
            "_view_module_version": "1.2.0",
            "bar_color": null,
            "_model_module": "@jupyter-widgets/controls"
          }
        },
        "ad019ab4edad445b8c6cb5af682d1ce6": {
          "model_module": "@jupyter-widgets/base",
          "model_name": "LayoutModel",
          "model_module_version": "1.2.0",
          "state": {
            "_view_name": "LayoutView",
            "grid_template_rows": null,
            "right": null,
            "justify_content": null,
            "_view_module": "@jupyter-widgets/base",
            "overflow": null,
            "_model_module_version": "1.2.0",
            "_view_count": null,
            "flex_flow": null,
            "width": "20px",
            "min_width": null,
            "border": null,
            "align_items": null,
            "bottom": null,
            "_model_module": "@jupyter-widgets/base",
            "top": null,
            "grid_column": null,
            "overflow_y": null,
            "overflow_x": null,
            "grid_auto_flow": null,
            "grid_area": null,
            "grid_template_columns": null,
            "flex": null,
            "_model_name": "LayoutModel",
            "justify_items": null,
            "grid_row": null,
            "max_height": null,
            "align_content": null,
            "visibility": null,
            "align_self": null,
            "height": null,
            "min_height": null,
            "padding": null,
            "grid_auto_rows": null,
            "grid_gap": null,
            "max_width": null,
            "order": null,
            "_view_module_version": "1.2.0",
            "grid_template_areas": null,
            "object_position": null,
            "object_fit": null,
            "grid_auto_columns": null,
            "margin": null,
            "display": null,
            "left": null
          }
        },
        "175490e85ed745b89f9c23745944fbd2": {
          "model_module": "@jupyter-widgets/controls",
          "model_name": "DescriptionStyleModel",
          "model_module_version": "1.5.0",
          "state": {
            "_view_name": "StyleView",
            "_model_name": "DescriptionStyleModel",
            "description_width": "",
            "_view_module": "@jupyter-widgets/base",
            "_model_module_version": "1.5.0",
            "_view_count": null,
            "_view_module_version": "1.2.0",
            "_model_module": "@jupyter-widgets/controls"
          }
        },
        "6d3fde74f9dc48248b627e0b5c6900a1": {
          "model_module": "@jupyter-widgets/base",
          "model_name": "LayoutModel",
          "model_module_version": "1.2.0",
          "state": {
            "_view_name": "LayoutView",
            "grid_template_rows": null,
            "right": null,
            "justify_content": null,
            "_view_module": "@jupyter-widgets/base",
            "overflow": null,
            "_model_module_version": "1.2.0",
            "_view_count": null,
            "flex_flow": null,
            "width": null,
            "min_width": null,
            "border": null,
            "align_items": null,
            "bottom": null,
            "_model_module": "@jupyter-widgets/base",
            "top": null,
            "grid_column": null,
            "overflow_y": null,
            "overflow_x": null,
            "grid_auto_flow": null,
            "grid_area": null,
            "grid_template_columns": null,
            "flex": null,
            "_model_name": "LayoutModel",
            "justify_items": null,
            "grid_row": null,
            "max_height": null,
            "align_content": null,
            "visibility": null,
            "align_self": null,
            "height": null,
            "min_height": null,
            "padding": null,
            "grid_auto_rows": null,
            "grid_gap": null,
            "max_width": null,
            "order": null,
            "_view_module_version": "1.2.0",
            "grid_template_areas": null,
            "object_position": null,
            "object_fit": null,
            "grid_auto_columns": null,
            "margin": null,
            "display": null,
            "left": null
          }
        },
        "8a24ed55247f417686bb99ae83a11fd8": {
          "model_module": "@jupyter-widgets/controls",
          "model_name": "HBoxModel",
          "model_module_version": "1.5.0",
          "state": {
            "_view_name": "HBoxView",
            "_dom_classes": [],
            "_model_name": "HBoxModel",
            "_view_module": "@jupyter-widgets/controls",
            "_model_module_version": "1.5.0",
            "_view_count": null,
            "_view_module_version": "1.5.0",
            "box_style": "",
            "layout": "IPY_MODEL_544f94a9a87f405886522a8f50090c48",
            "_model_module": "@jupyter-widgets/controls",
            "children": [
              "IPY_MODEL_5d67f3b326414a31a80ec2d0d8d30168",
              "IPY_MODEL_3a79dff68943466a87da98186717051f",
              "IPY_MODEL_9227f990b0224b0591a557afcb68d141"
            ]
          }
        },
        "544f94a9a87f405886522a8f50090c48": {
          "model_module": "@jupyter-widgets/base",
          "model_name": "LayoutModel",
          "model_module_version": "1.2.0",
          "state": {
            "_view_name": "LayoutView",
            "grid_template_rows": null,
            "right": null,
            "justify_content": null,
            "_view_module": "@jupyter-widgets/base",
            "overflow": null,
            "_model_module_version": "1.2.0",
            "_view_count": null,
            "flex_flow": null,
            "width": null,
            "min_width": null,
            "border": null,
            "align_items": null,
            "bottom": null,
            "_model_module": "@jupyter-widgets/base",
            "top": null,
            "grid_column": null,
            "overflow_y": null,
            "overflow_x": null,
            "grid_auto_flow": null,
            "grid_area": null,
            "grid_template_columns": null,
            "flex": null,
            "_model_name": "LayoutModel",
            "justify_items": null,
            "grid_row": null,
            "max_height": null,
            "align_content": null,
            "visibility": null,
            "align_self": null,
            "height": null,
            "min_height": null,
            "padding": null,
            "grid_auto_rows": null,
            "grid_gap": null,
            "max_width": null,
            "order": null,
            "_view_module_version": "1.2.0",
            "grid_template_areas": null,
            "object_position": null,
            "object_fit": null,
            "grid_auto_columns": null,
            "margin": null,
            "display": null,
            "left": null
          }
        },
        "5d67f3b326414a31a80ec2d0d8d30168": {
          "model_module": "@jupyter-widgets/controls",
          "model_name": "HTMLModel",
          "model_module_version": "1.5.0",
          "state": {
            "_view_name": "HTMLView",
            "style": "IPY_MODEL_a4f2dd8d94934ae3916ed0b6936bd09f",
            "_dom_classes": [],
            "description": "",
            "_model_name": "HTMLModel",
            "placeholder": "​",
            "_view_module": "@jupyter-widgets/controls",
            "_model_module_version": "1.5.0",
            "value": "",
            "_view_count": null,
            "_view_module_version": "1.5.0",
            "description_tooltip": null,
            "_model_module": "@jupyter-widgets/controls",
            "layout": "IPY_MODEL_5ddfaa9f8e57495eaf4fb8f6e870e256"
          }
        },
        "3a79dff68943466a87da98186717051f": {
          "model_module": "@jupyter-widgets/controls",
          "model_name": "FloatProgressModel",
          "model_module_version": "1.5.0",
          "state": {
            "_view_name": "ProgressView",
            "style": "IPY_MODEL_030547ed0b8a47f0b9c6a531b4d58f3c",
            "_dom_classes": [],
            "description": "",
            "_model_name": "FloatProgressModel",
            "bar_style": "success",
            "max": 1,
            "_view_module": "@jupyter-widgets/controls",
            "_model_module_version": "1.5.0",
            "value": 1,
            "_view_count": null,
            "_view_module_version": "1.5.0",
            "orientation": "horizontal",
            "min": 0,
            "description_tooltip": null,
            "_model_module": "@jupyter-widgets/controls",
            "layout": "IPY_MODEL_edbe116c261147f2a7dee2d3676e5f12"
          }
        },
        "9227f990b0224b0591a557afcb68d141": {
          "model_module": "@jupyter-widgets/controls",
          "model_name": "HTMLModel",
          "model_module_version": "1.5.0",
          "state": {
            "_view_name": "HTMLView",
            "style": "IPY_MODEL_b4a988c8b529419292bb9bc3da93961b",
            "_dom_classes": [],
            "description": "",
            "_model_name": "HTMLModel",
            "placeholder": "​",
            "_view_module": "@jupyter-widgets/controls",
            "_model_module_version": "1.5.0",
            "value": " 1256/? [00:10&lt;00:00, 122.93it/s]",
            "_view_count": null,
            "_view_module_version": "1.5.0",
            "description_tooltip": null,
            "_model_module": "@jupyter-widgets/controls",
            "layout": "IPY_MODEL_82e7bbd24bae4749a59603dcf9a91e0f"
          }
        },
        "a4f2dd8d94934ae3916ed0b6936bd09f": {
          "model_module": "@jupyter-widgets/controls",
          "model_name": "DescriptionStyleModel",
          "model_module_version": "1.5.0",
          "state": {
            "_view_name": "StyleView",
            "_model_name": "DescriptionStyleModel",
            "description_width": "",
            "_view_module": "@jupyter-widgets/base",
            "_model_module_version": "1.5.0",
            "_view_count": null,
            "_view_module_version": "1.2.0",
            "_model_module": "@jupyter-widgets/controls"
          }
        },
        "5ddfaa9f8e57495eaf4fb8f6e870e256": {
          "model_module": "@jupyter-widgets/base",
          "model_name": "LayoutModel",
          "model_module_version": "1.2.0",
          "state": {
            "_view_name": "LayoutView",
            "grid_template_rows": null,
            "right": null,
            "justify_content": null,
            "_view_module": "@jupyter-widgets/base",
            "overflow": null,
            "_model_module_version": "1.2.0",
            "_view_count": null,
            "flex_flow": null,
            "width": null,
            "min_width": null,
            "border": null,
            "align_items": null,
            "bottom": null,
            "_model_module": "@jupyter-widgets/base",
            "top": null,
            "grid_column": null,
            "overflow_y": null,
            "overflow_x": null,
            "grid_auto_flow": null,
            "grid_area": null,
            "grid_template_columns": null,
            "flex": null,
            "_model_name": "LayoutModel",
            "justify_items": null,
            "grid_row": null,
            "max_height": null,
            "align_content": null,
            "visibility": null,
            "align_self": null,
            "height": null,
            "min_height": null,
            "padding": null,
            "grid_auto_rows": null,
            "grid_gap": null,
            "max_width": null,
            "order": null,
            "_view_module_version": "1.2.0",
            "grid_template_areas": null,
            "object_position": null,
            "object_fit": null,
            "grid_auto_columns": null,
            "margin": null,
            "display": null,
            "left": null
          }
        },
        "030547ed0b8a47f0b9c6a531b4d58f3c": {
          "model_module": "@jupyter-widgets/controls",
          "model_name": "ProgressStyleModel",
          "model_module_version": "1.5.0",
          "state": {
            "_view_name": "StyleView",
            "_model_name": "ProgressStyleModel",
            "description_width": "",
            "_view_module": "@jupyter-widgets/base",
            "_model_module_version": "1.5.0",
            "_view_count": null,
            "_view_module_version": "1.2.0",
            "bar_color": null,
            "_model_module": "@jupyter-widgets/controls"
          }
        },
        "edbe116c261147f2a7dee2d3676e5f12": {
          "model_module": "@jupyter-widgets/base",
          "model_name": "LayoutModel",
          "model_module_version": "1.2.0",
          "state": {
            "_view_name": "LayoutView",
            "grid_template_rows": null,
            "right": null,
            "justify_content": null,
            "_view_module": "@jupyter-widgets/base",
            "overflow": null,
            "_model_module_version": "1.2.0",
            "_view_count": null,
            "flex_flow": null,
            "width": "20px",
            "min_width": null,
            "border": null,
            "align_items": null,
            "bottom": null,
            "_model_module": "@jupyter-widgets/base",
            "top": null,
            "grid_column": null,
            "overflow_y": null,
            "overflow_x": null,
            "grid_auto_flow": null,
            "grid_area": null,
            "grid_template_columns": null,
            "flex": null,
            "_model_name": "LayoutModel",
            "justify_items": null,
            "grid_row": null,
            "max_height": null,
            "align_content": null,
            "visibility": null,
            "align_self": null,
            "height": null,
            "min_height": null,
            "padding": null,
            "grid_auto_rows": null,
            "grid_gap": null,
            "max_width": null,
            "order": null,
            "_view_module_version": "1.2.0",
            "grid_template_areas": null,
            "object_position": null,
            "object_fit": null,
            "grid_auto_columns": null,
            "margin": null,
            "display": null,
            "left": null
          }
        },
        "b4a988c8b529419292bb9bc3da93961b": {
          "model_module": "@jupyter-widgets/controls",
          "model_name": "DescriptionStyleModel",
          "model_module_version": "1.5.0",
          "state": {
            "_view_name": "StyleView",
            "_model_name": "DescriptionStyleModel",
            "description_width": "",
            "_view_module": "@jupyter-widgets/base",
            "_model_module_version": "1.5.0",
            "_view_count": null,
            "_view_module_version": "1.2.0",
            "_model_module": "@jupyter-widgets/controls"
          }
        },
        "82e7bbd24bae4749a59603dcf9a91e0f": {
          "model_module": "@jupyter-widgets/base",
          "model_name": "LayoutModel",
          "model_module_version": "1.2.0",
          "state": {
            "_view_name": "LayoutView",
            "grid_template_rows": null,
            "right": null,
            "justify_content": null,
            "_view_module": "@jupyter-widgets/base",
            "overflow": null,
            "_model_module_version": "1.2.0",
            "_view_count": null,
            "flex_flow": null,
            "width": null,
            "min_width": null,
            "border": null,
            "align_items": null,
            "bottom": null,
            "_model_module": "@jupyter-widgets/base",
            "top": null,
            "grid_column": null,
            "overflow_y": null,
            "overflow_x": null,
            "grid_auto_flow": null,
            "grid_area": null,
            "grid_template_columns": null,
            "flex": null,
            "_model_name": "LayoutModel",
            "justify_items": null,
            "grid_row": null,
            "max_height": null,
            "align_content": null,
            "visibility": null,
            "align_self": null,
            "height": null,
            "min_height": null,
            "padding": null,
            "grid_auto_rows": null,
            "grid_gap": null,
            "max_width": null,
            "order": null,
            "_view_module_version": "1.2.0",
            "grid_template_areas": null,
            "object_position": null,
            "object_fit": null,
            "grid_auto_columns": null,
            "margin": null,
            "display": null,
            "left": null
          }
        }
      }
    }
  },
  "cells": [
    {
      "cell_type": "markdown",
      "metadata": {
        "id": "view-in-github",
        "colab_type": "text"
      },
      "source": [
        "<a href=\"https://colab.research.google.com/github/mvgarcia/Reto-WJ/blob/main/modelo_resnet.ipynb\" target=\"_parent\"><img src=\"https://colab.research.google.com/assets/colab-badge.svg\" alt=\"Open In Colab\"/></a>"
      ]
    },
    {
      "cell_type": "markdown",
      "metadata": {
        "id": "cnN9UD5qQryy"
      },
      "source": [
        "##Preparación de los datos"
      ]
    },
    {
      "cell_type": "markdown",
      "metadata": {
        "id": "r-LpoXkhBYxN"
      },
      "source": [
        "Importamos drive"
      ]
    },
    {
      "cell_type": "code",
      "metadata": {
        "id": "Axc2JfhDI-mk",
        "colab": {
          "base_uri": "https://localhost:8080/"
        },
        "outputId": "6761d895-1532-4fd0-a297-d8b6f33eb296"
      },
      "source": [
        "from google.colab import drive\n",
        "drive.mount('/content/drive')"
      ],
      "execution_count": null,
      "outputs": [
        {
          "output_type": "stream",
          "name": "stdout",
          "text": [
            "Drive already mounted at /content/drive; to attempt to forcibly remount, call drive.mount(\"/content/drive\", force_remount=True).\n"
          ]
        }
      ]
    },
    {
      "cell_type": "markdown",
      "metadata": {
        "id": "xnLfofMSBtVM"
      },
      "source": [
        "Importamos las librerías necesarias"
      ]
    },
    {
      "cell_type": "code",
      "metadata": {
        "id": "zbs3GpFOBaNT"
      },
      "source": [
        "from glob import glob\n",
        "import numpy as np\n",
        "import torchvision.transforms as transforms\n",
        "from PIL import Image\n",
        "import matplotlib.pyplot as plt\n",
        "from tqdm.notebook import tqdm\n",
        "import torch\n",
        "from torch.autograd import Variable"
      ],
      "execution_count": null,
      "outputs": []
    },
    {
      "cell_type": "markdown",
      "metadata": {
        "id": "1IukpnpiBvcH"
      },
      "source": [
        "Cargamos los datos de entrenamiento y de testeo"
      ]
    },
    {
      "cell_type": "code",
      "metadata": {
        "colab": {
          "base_uri": "https://localhost:8080/",
          "height": 35
        },
        "id": "zEKPti69BxRZ",
        "outputId": "769a5276-d701-4eab-e542-d471aa14bf37"
      },
      "source": [
        "train_files = glob('/content/drive/MyDrive/Reto/data/train/*/*.png')\n",
        "test_files = glob('/content/drive/MyDrive/Reto/data/test/*/*.png')\n",
        "\n",
        "train_files[0]"
      ],
      "execution_count": null,
      "outputs": [
        {
          "output_type": "execute_result",
          "data": {
            "application/vnd.google.colaboratory.intrinsic+json": {
              "type": "string"
            },
            "text/plain": [
              "'/content/drive/MyDrive/Reto/data/train/0/43.png'"
            ]
          },
          "metadata": {},
          "execution_count": 3
        }
      ]
    },
    {
      "cell_type": "markdown",
      "metadata": {
        "id": "f6lAW4CfCLUE"
      },
      "source": [
        "Ordenamos ahora, aunque los datos no estén necesariamente organizados, las listas de forma aleatoria para evitar sesgos"
      ]
    },
    {
      "cell_type": "code",
      "metadata": {
        "colab": {
          "base_uri": "https://localhost:8080/"
        },
        "id": "7LsaSi30B-D6",
        "outputId": "9f9534f2-da9c-4318-bde9-94330aaaec87"
      },
      "source": [
        "np.random.shuffle(train_files)\n",
        "np.random.shuffle(test_files)\n",
        "\n",
        "len(train_files), len(test_files)"
      ],
      "execution_count": null,
      "outputs": [
        {
          "output_type": "execute_result",
          "data": {
            "text/plain": [
              "(11340, 1256)"
            ]
          },
          "metadata": {},
          "execution_count": 4
        }
      ]
    },
    {
      "cell_type": "markdown",
      "metadata": {
        "id": "RCJRBrO7Ch1E"
      },
      "source": [
        "Ya que vamos a utilizar ResNet, al momento de cargar los datos en el modelo debemos primero reescalarlos a la entrada de la CNN (244,244,3). Ya que todas las imágenes ya son RGB, unicamente debemos reescalar el tamaño. También normalizamos el dataset utilizando la media y la mediana, algo hecho para ayudar al modelo a converger más rápidamente."
      ]
    },
    {
      "cell_type": "code",
      "metadata": {
        "id": "ptZdXjduCT0M"
      },
      "source": [
        "data_transform = transforms.Compose([\n",
        "                 transforms.Resize((224, 224)),\n",
        "                 ])\n",
        "\n",
        "data_transform_grayscale = transforms.Compose([\n",
        "                 transforms.Grayscale(3),\n",
        "                 transforms.Resize((224, 224)),\n",
        "                 ])"
      ],
      "execution_count": null,
      "outputs": []
    },
    {
      "cell_type": "markdown",
      "metadata": {
        "id": "XeZlSy97DLGc"
      },
      "source": [
        "Cargamos ahora los datos de entrenamiento"
      ]
    },
    {
      "cell_type": "code",
      "metadata": {
        "colab": {
          "base_uri": "https://localhost:8080/",
          "height": 49,
          "referenced_widgets": [
            "3e917cd277ef48c88998815e986e5b63",
            "327fd1babbf749b98091f69f320d341b",
            "46a1ccd8322546659e2c2a99af74c8aa",
            "b6d01e1a1b0843a5b280090eb6be3d16",
            "5e25695e39ce4970a0c3e2c99ba1145b",
            "45e51d87c77b467bb503454cf82bf4e2",
            "61cd30638afb45b2bbaa1f5334b775ce",
            "cafcce35849c4165b053937044be7431",
            "ad019ab4edad445b8c6cb5af682d1ce6",
            "175490e85ed745b89f9c23745944fbd2",
            "6d3fde74f9dc48248b627e0b5c6900a1"
          ]
        },
        "id": "e4aYGOtMC5jh",
        "outputId": "0b4705ba-eb67-42a3-cb38-599c635a7efc"
      },
      "source": [
        "N_train = len(train_files)\n",
        "X_train = []\n",
        "Y_train = []\n",
        "\n",
        "\n",
        "for i, train_file in tqdm(enumerate(train_files)):\n",
        "  Y_train.append(int(train_file.split('/')[7]))\n",
        "  try:\n",
        "    X_train.append(np.array(data_transform(Image.open(train_file))).reshape(224,224,3))\n",
        "  except:\n",
        "    X_train.append(np.array(data_transform_grayscale(Image.open(train_file))).reshape(224,224,3))"
      ],
      "execution_count": null,
      "outputs": [
        {
          "output_type": "display_data",
          "data": {
            "application/vnd.jupyter.widget-view+json": {
              "model_id": "3e917cd277ef48c88998815e986e5b63",
              "version_minor": 0,
              "version_major": 2
            },
            "text/plain": [
              "0it [00:00, ?it/s]"
            ]
          },
          "metadata": {}
        }
      ]
    },
    {
      "cell_type": "code",
      "metadata": {
        "colab": {
          "base_uri": "https://localhost:8080/",
          "height": 49,
          "referenced_widgets": [
            "8a24ed55247f417686bb99ae83a11fd8",
            "544f94a9a87f405886522a8f50090c48",
            "5d67f3b326414a31a80ec2d0d8d30168",
            "3a79dff68943466a87da98186717051f",
            "9227f990b0224b0591a557afcb68d141",
            "a4f2dd8d94934ae3916ed0b6936bd09f",
            "5ddfaa9f8e57495eaf4fb8f6e870e256",
            "030547ed0b8a47f0b9c6a531b4d58f3c",
            "edbe116c261147f2a7dee2d3676e5f12",
            "b4a988c8b529419292bb9bc3da93961b",
            "82e7bbd24bae4749a59603dcf9a91e0f"
          ]
        },
        "id": "QmZdm77uDeA-",
        "outputId": "e8eb74ab-e732-404b-e872-9bbe7630e8d8"
      },
      "source": [
        "N_test = len(test_files)\n",
        "X_test = []\n",
        "Y_test = []\n",
        "\n",
        "\n",
        "for i, test_file in tqdm(enumerate(test_files)):\n",
        "  Y_test.append(int(test_file.split('/')[7]))\n",
        "  try:\n",
        "    X_test.append(np.array(data_transform(Image.open(test_file))).reshape(224,224,3))\n",
        "  except:\n",
        "    X_test.append(np.array(data_transform_grayscale(Image.open(test_file))).reshape(224,224,3))"
      ],
      "execution_count": null,
      "outputs": [
        {
          "output_type": "display_data",
          "data": {
            "application/vnd.jupyter.widget-view+json": {
              "model_id": "8a24ed55247f417686bb99ae83a11fd8",
              "version_minor": 0,
              "version_major": 2
            },
            "text/plain": [
              "0it [00:00, ?it/s]"
            ]
          },
          "metadata": {}
        }
      ]
    },
    {
      "cell_type": "markdown",
      "metadata": {
        "id": "ugTYuGWWMQQt"
      },
      "source": [
        "Convertimos estas listas con los datos a tensores de torch"
      ]
    },
    {
      "cell_type": "code",
      "metadata": {
        "colab": {
          "base_uri": "https://localhost:8080/"
        },
        "id": "eP1HgnArG6um",
        "outputId": "50b8a6fd-6909-4e4b-b10e-7bf24778302e"
      },
      "source": [
        "X_train = Variable(torch.from_numpy(np.array(X_train))).float()\n",
        "Y_train = Variable(torch.from_numpy(np.array(Y_train))).long()\n",
        "\n",
        "X_test = Variable(torch.from_numpy(np.array(X_test))).float()\n",
        "Y_test = Variable(torch.from_numpy(np.array(Y_test))).long()\n",
        "\n",
        "X_train.data.size()"
      ],
      "execution_count": null,
      "outputs": [
        {
          "output_type": "execute_result",
          "data": {
            "text/plain": [
              "torch.Size([11340, 224, 224, 3])"
            ]
          },
          "metadata": {},
          "execution_count": 10
        }
      ]
    },
    {
      "cell_type": "markdown",
      "metadata": {
        "id": "8v2NoAdjMhy1"
      },
      "source": [
        "Y finalmente creamos el dataloader"
      ]
    },
    {
      "cell_type": "code",
      "metadata": {
        "id": "0MtP_zhWMf7e"
      },
      "source": [
        "batch_size = 32\n",
        "\n",
        "train_ds = torch.utils.data.TensorDataset(X_train, Y_train)\n",
        "train_dl = torch.utils.data.DataLoader(train_ds, batch_size=batch_size, shuffle=True)"
      ],
      "execution_count": null,
      "outputs": []
    },
    {
      "cell_type": "markdown",
      "metadata": {
        "id": "B8-AdgWwQlZt"
      },
      "source": [
        "##Entrenamiento del modelo"
      ]
    },
    {
      "cell_type": "markdown",
      "metadata": {
        "id": "kIoA3dEZSLVs"
      },
      "source": [
        "Cargamos ResNet de la libreria de Torch"
      ]
    },
    {
      "cell_type": "code",
      "metadata": {
        "id": "dcihJ9hzQodU"
      },
      "source": [
        "import torch\n",
        "\n",
        "model = torch.hub.load('pytorch/vision', 'resnet18', pretrained=True)\n",
        "model"
      ],
      "execution_count": null,
      "outputs": []
    },
    {
      "cell_type": "markdown",
      "metadata": {
        "id": "5xWd1yjCZyRN"
      },
      "source": [
        "Congelamos los pesos para que no se actualicen"
      ]
    },
    {
      "cell_type": "code",
      "metadata": {
        "id": "XY2jT6tWZfC1"
      },
      "source": [
        "for p in model.parameters():\n",
        "    p.requires_grad = False\n",
        "\n",
        "#--- Definimos el número de clases\n",
        "out_dim = 6\n",
        "\n",
        "#--- Reescribimos la nueva capa de salida con el nuevo dataset\n",
        "model.fc = torch.nn.Sequential(\n",
        "  torch.nn.Linear(model.fc.in_features, out_dim)\n",
        ")\n",
        "\n",
        "\n",
        "model.load_state_dict(model.state_dict())\n",
        "\n",
        "model"
      ],
      "execution_count": null,
      "outputs": []
    },
    {
      "cell_type": "markdown",
      "metadata": {
        "id": "F-gc7dR8aNcF"
      },
      "source": [
        "Instalamos HiddenLayer para visualizar las gráficas de entrenamiento en tiempo real"
      ]
    },
    {
      "cell_type": "code",
      "metadata": {
        "id": "DlfgcwagaaCj"
      },
      "source": [
        "!pip install hiddenlayer"
      ],
      "execution_count": null,
      "outputs": []
    },
    {
      "cell_type": "markdown",
      "metadata": {
        "id": "onZThq4sacKl"
      },
      "source": [
        "Y lo importamos"
      ]
    },
    {
      "cell_type": "code",
      "metadata": {
        "id": "BtzMx5_hadcc"
      },
      "source": [
        "import hiddenlayer as hl\n",
        "\n",
        "hl.build_graph(model, torch.zeros([64,3,264,264]))"
      ],
      "execution_count": null,
      "outputs": []
    },
    {
      "cell_type": "markdown",
      "metadata": {
        "id": "1PHB1QiyagwE"
      },
      "source": [
        "Finalmente, ponemos el modelo en modo de entrenamiento y entrenamos"
      ]
    },
    {
      "cell_type": "code",
      "metadata": {
        "id": "fNUh_ArSasUR"
      },
      "source": [
        "model = model.cuda()\n",
        "\n",
        "model.train()\n",
        "\n",
        "#--- Definimos nuestro criterio de evaluación y el optimizador \n",
        "optimizer = torch.optim.SGD(model.parameters(), lr=0.001, weight_decay=0.1)\n",
        "criterion = torch.nn.CrossEntropyLoss()\n",
        "\n",
        "\n",
        "#--- Entrenamos el modelo usando únicamente 5 épocas\n",
        "n_epochs = 5\n",
        "\n",
        "history = hl.History()\n",
        "canvas = hl.Canvas()\n",
        "\n",
        "iter = 0\n",
        "\n",
        "for epoch in range(n_epochs):\n",
        "  for batch_idx, (X_train_batch, Y_train_batch) in enumerate(train_dl):\n",
        "    # Pasamos os datos a 'cuda'\n",
        "    \n",
        "    X_train_batch = X_train_batch.cuda()\n",
        "    Y_train_batch = Y_train_batch.cuda()\n",
        "\n",
        "    # Realiza una predicción\n",
        "    Y_pred = model(X_train_batch)\n",
        "\n",
        "    # Calcula el loss\n",
        "    loss = criterion(Y_pred, Y_train_batch)\n",
        "\n",
        "    Y_pred = torch.argmax(Y_pred, 1)\n",
        "\n",
        "    # Calcula el accuracy\n",
        "    acc = sum(Y_train_batch == Y_pred)/len(Y_pred)\n",
        "    \n",
        "    # Backpropagation\n",
        "    optimizer.zero_grad()\n",
        "    loss.backward()\n",
        "    optimizer.step()\n",
        "\n",
        "    if iter%10 == 0:\n",
        "        #-- Visualizamos la evolución de los score loss y accuracy\n",
        "        history.log((epoch+1, iter), loss=loss, accuracy=acc)\n",
        "        with canvas:\n",
        "          canvas.draw_plot(history[\"loss\"])\n",
        "          canvas.draw_plot(history[\"accuracy\"])\n",
        "\n",
        "    iter += 1\n",
        "    del X_train_batch, Y_train_batch, Y_pred"
      ],
      "execution_count": null,
      "outputs": []
    },
    {
      "cell_type": "markdown",
      "metadata": {
        "id": "rWd4AgXra0j0"
      },
      "source": [
        "Validamos finalmente el modelo con los datos de testeo"
      ]
    },
    {
      "cell_type": "code",
      "metadata": {
        "id": "aeWok-gua9dw"
      },
      "source": [
        "from sklearn.metrics import f1_score\n",
        "\n",
        "\n",
        "model.cpu()\n",
        "model.eval()\n",
        "\n",
        "Y_pred = model(X_test)\n",
        "loss = criterion(Y_pred,Y_test)\n",
        "\n",
        "Y_pred = torch.argmax(Y_pred, 1)\n",
        "f1 = f1_score(Y_test, Y_pred, average='macro')\n",
        "\n",
        "acc = sum(Y_test == Y_pred)/len(Y_pred)\n",
        "\n",
        "print( 'Loss:{:.2f}, F1:{:.2f}, Acc:{:.2f}'.format(loss.item(), f1, acc ) )"
      ],
      "execution_count": null,
      "outputs": []
    },
    {
      "cell_type": "markdown",
      "metadata": {
        "id": "fUZObdqAbFmt"
      },
      "source": [
        "Y lo guardamos para aprovecharlo eventualmente"
      ]
    },
    {
      "cell_type": "code",
      "metadata": {
        "id": "8NVI0mGXbISl"
      },
      "source": [
        "torch.save(model,open('./ResNet_MNIST.pt','wb'))"
      ],
      "execution_count": null,
      "outputs": []
    }
  ]
}