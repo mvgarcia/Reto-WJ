{
  "nbformat": 4,
  "nbformat_minor": 0,
  "metadata": {
    "colab": {
      "name": "modelo_resnet.ipynb",
      "provenance": [],
      "collapsed_sections": [],
      "include_colab_link": true
    },
    "kernelspec": {
      "display_name": "Python 3",
      "name": "python3"
    },
    "language_info": {
      "name": "python"
    },
    "widgets": {
      "application/vnd.jupyter.widget-state+json": {
        "d4d7575bec6a4de79d2fb7cae3ee7eed": {
          "model_module": "@jupyter-widgets/controls",
          "model_name": "HBoxModel",
          "model_module_version": "1.5.0",
          "state": {
            "_dom_classes": [],
            "_model_module": "@jupyter-widgets/controls",
            "_model_module_version": "1.5.0",
            "_model_name": "HBoxModel",
            "_view_count": null,
            "_view_module": "@jupyter-widgets/controls",
            "_view_module_version": "1.5.0",
            "_view_name": "HBoxView",
            "box_style": "",
            "children": [
              "IPY_MODEL_508894e5cc0d4e5eb485c188b7cb833f",
              "IPY_MODEL_07e368a1cd4a47bc97703ab8cf1bee71",
              "IPY_MODEL_1458f62f404d424bbbde0df1a1a09275"
            ],
            "layout": "IPY_MODEL_d875f52c838b48cea001e5e26e28723e"
          }
        },
        "508894e5cc0d4e5eb485c188b7cb833f": {
          "model_module": "@jupyter-widgets/controls",
          "model_name": "HTMLModel",
          "model_module_version": "1.5.0",
          "state": {
            "_dom_classes": [],
            "_model_module": "@jupyter-widgets/controls",
            "_model_module_version": "1.5.0",
            "_model_name": "HTMLModel",
            "_view_count": null,
            "_view_module": "@jupyter-widgets/controls",
            "_view_module_version": "1.5.0",
            "_view_name": "HTMLView",
            "description": "",
            "description_tooltip": null,
            "layout": "IPY_MODEL_6a4bf1241f054ea3b02a9110e658250d",
            "placeholder": "​",
            "style": "IPY_MODEL_d305d2dd04b2494e98599dc3153f0b66",
            "value": "100%"
          }
        },
        "07e368a1cd4a47bc97703ab8cf1bee71": {
          "model_module": "@jupyter-widgets/controls",
          "model_name": "FloatProgressModel",
          "model_module_version": "1.5.0",
          "state": {
            "_dom_classes": [],
            "_model_module": "@jupyter-widgets/controls",
            "_model_module_version": "1.5.0",
            "_model_name": "FloatProgressModel",
            "_view_count": null,
            "_view_module": "@jupyter-widgets/controls",
            "_view_module_version": "1.5.0",
            "_view_name": "ProgressView",
            "bar_style": "success",
            "description": "",
            "description_tooltip": null,
            "layout": "IPY_MODEL_a5d1081d2d784d7e9c8ef0d903b321cf",
            "max": 1256,
            "min": 0,
            "orientation": "horizontal",
            "style": "IPY_MODEL_13aa58192ef7497d8171215c0e3d2aa4",
            "value": 1256
          }
        },
        "1458f62f404d424bbbde0df1a1a09275": {
          "model_module": "@jupyter-widgets/controls",
          "model_name": "HTMLModel",
          "model_module_version": "1.5.0",
          "state": {
            "_dom_classes": [],
            "_model_module": "@jupyter-widgets/controls",
            "_model_module_version": "1.5.0",
            "_model_name": "HTMLModel",
            "_view_count": null,
            "_view_module": "@jupyter-widgets/controls",
            "_view_module_version": "1.5.0",
            "_view_name": "HTMLView",
            "description": "",
            "description_tooltip": null,
            "layout": "IPY_MODEL_95cd961560714357b03802bb96c495eb",
            "placeholder": "​",
            "style": "IPY_MODEL_6637f93277574a1780ad412b798132c8",
            "value": " 1256/1256 [03:29&lt;00:00,  5.94it/s]"
          }
        },
        "d875f52c838b48cea001e5e26e28723e": {
          "model_module": "@jupyter-widgets/base",
          "model_name": "LayoutModel",
          "model_module_version": "1.2.0",
          "state": {
            "_model_module": "@jupyter-widgets/base",
            "_model_module_version": "1.2.0",
            "_model_name": "LayoutModel",
            "_view_count": null,
            "_view_module": "@jupyter-widgets/base",
            "_view_module_version": "1.2.0",
            "_view_name": "LayoutView",
            "align_content": null,
            "align_items": null,
            "align_self": null,
            "border": null,
            "bottom": null,
            "display": null,
            "flex": null,
            "flex_flow": null,
            "grid_area": null,
            "grid_auto_columns": null,
            "grid_auto_flow": null,
            "grid_auto_rows": null,
            "grid_column": null,
            "grid_gap": null,
            "grid_row": null,
            "grid_template_areas": null,
            "grid_template_columns": null,
            "grid_template_rows": null,
            "height": null,
            "justify_content": null,
            "justify_items": null,
            "left": null,
            "margin": null,
            "max_height": null,
            "max_width": null,
            "min_height": null,
            "min_width": null,
            "object_fit": null,
            "object_position": null,
            "order": null,
            "overflow": null,
            "overflow_x": null,
            "overflow_y": null,
            "padding": null,
            "right": null,
            "top": null,
            "visibility": null,
            "width": null
          }
        },
        "6a4bf1241f054ea3b02a9110e658250d": {
          "model_module": "@jupyter-widgets/base",
          "model_name": "LayoutModel",
          "model_module_version": "1.2.0",
          "state": {
            "_model_module": "@jupyter-widgets/base",
            "_model_module_version": "1.2.0",
            "_model_name": "LayoutModel",
            "_view_count": null,
            "_view_module": "@jupyter-widgets/base",
            "_view_module_version": "1.2.0",
            "_view_name": "LayoutView",
            "align_content": null,
            "align_items": null,
            "align_self": null,
            "border": null,
            "bottom": null,
            "display": null,
            "flex": null,
            "flex_flow": null,
            "grid_area": null,
            "grid_auto_columns": null,
            "grid_auto_flow": null,
            "grid_auto_rows": null,
            "grid_column": null,
            "grid_gap": null,
            "grid_row": null,
            "grid_template_areas": null,
            "grid_template_columns": null,
            "grid_template_rows": null,
            "height": null,
            "justify_content": null,
            "justify_items": null,
            "left": null,
            "margin": null,
            "max_height": null,
            "max_width": null,
            "min_height": null,
            "min_width": null,
            "object_fit": null,
            "object_position": null,
            "order": null,
            "overflow": null,
            "overflow_x": null,
            "overflow_y": null,
            "padding": null,
            "right": null,
            "top": null,
            "visibility": null,
            "width": null
          }
        },
        "d305d2dd04b2494e98599dc3153f0b66": {
          "model_module": "@jupyter-widgets/controls",
          "model_name": "DescriptionStyleModel",
          "model_module_version": "1.5.0",
          "state": {
            "_model_module": "@jupyter-widgets/controls",
            "_model_module_version": "1.5.0",
            "_model_name": "DescriptionStyleModel",
            "_view_count": null,
            "_view_module": "@jupyter-widgets/base",
            "_view_module_version": "1.2.0",
            "_view_name": "StyleView",
            "description_width": ""
          }
        },
        "a5d1081d2d784d7e9c8ef0d903b321cf": {
          "model_module": "@jupyter-widgets/base",
          "model_name": "LayoutModel",
          "model_module_version": "1.2.0",
          "state": {
            "_model_module": "@jupyter-widgets/base",
            "_model_module_version": "1.2.0",
            "_model_name": "LayoutModel",
            "_view_count": null,
            "_view_module": "@jupyter-widgets/base",
            "_view_module_version": "1.2.0",
            "_view_name": "LayoutView",
            "align_content": null,
            "align_items": null,
            "align_self": null,
            "border": null,
            "bottom": null,
            "display": null,
            "flex": null,
            "flex_flow": null,
            "grid_area": null,
            "grid_auto_columns": null,
            "grid_auto_flow": null,
            "grid_auto_rows": null,
            "grid_column": null,
            "grid_gap": null,
            "grid_row": null,
            "grid_template_areas": null,
            "grid_template_columns": null,
            "grid_template_rows": null,
            "height": null,
            "justify_content": null,
            "justify_items": null,
            "left": null,
            "margin": null,
            "max_height": null,
            "max_width": null,
            "min_height": null,
            "min_width": null,
            "object_fit": null,
            "object_position": null,
            "order": null,
            "overflow": null,
            "overflow_x": null,
            "overflow_y": null,
            "padding": null,
            "right": null,
            "top": null,
            "visibility": null,
            "width": null
          }
        },
        "13aa58192ef7497d8171215c0e3d2aa4": {
          "model_module": "@jupyter-widgets/controls",
          "model_name": "ProgressStyleModel",
          "model_module_version": "1.5.0",
          "state": {
            "_model_module": "@jupyter-widgets/controls",
            "_model_module_version": "1.5.0",
            "_model_name": "ProgressStyleModel",
            "_view_count": null,
            "_view_module": "@jupyter-widgets/base",
            "_view_module_version": "1.2.0",
            "_view_name": "StyleView",
            "bar_color": null,
            "description_width": ""
          }
        },
        "95cd961560714357b03802bb96c495eb": {
          "model_module": "@jupyter-widgets/base",
          "model_name": "LayoutModel",
          "model_module_version": "1.2.0",
          "state": {
            "_model_module": "@jupyter-widgets/base",
            "_model_module_version": "1.2.0",
            "_model_name": "LayoutModel",
            "_view_count": null,
            "_view_module": "@jupyter-widgets/base",
            "_view_module_version": "1.2.0",
            "_view_name": "LayoutView",
            "align_content": null,
            "align_items": null,
            "align_self": null,
            "border": null,
            "bottom": null,
            "display": null,
            "flex": null,
            "flex_flow": null,
            "grid_area": null,
            "grid_auto_columns": null,
            "grid_auto_flow": null,
            "grid_auto_rows": null,
            "grid_column": null,
            "grid_gap": null,
            "grid_row": null,
            "grid_template_areas": null,
            "grid_template_columns": null,
            "grid_template_rows": null,
            "height": null,
            "justify_content": null,
            "justify_items": null,
            "left": null,
            "margin": null,
            "max_height": null,
            "max_width": null,
            "min_height": null,
            "min_width": null,
            "object_fit": null,
            "object_position": null,
            "order": null,
            "overflow": null,
            "overflow_x": null,
            "overflow_y": null,
            "padding": null,
            "right": null,
            "top": null,
            "visibility": null,
            "width": null
          }
        },
        "6637f93277574a1780ad412b798132c8": {
          "model_module": "@jupyter-widgets/controls",
          "model_name": "DescriptionStyleModel",
          "model_module_version": "1.5.0",
          "state": {
            "_model_module": "@jupyter-widgets/controls",
            "_model_module_version": "1.5.0",
            "_model_name": "DescriptionStyleModel",
            "_view_count": null,
            "_view_module": "@jupyter-widgets/base",
            "_view_module_version": "1.2.0",
            "_view_name": "StyleView",
            "description_width": ""
          }
        },
        "51fc0d27810643dcbe920fbb3e09632c": {
          "model_module": "@jupyter-widgets/controls",
          "model_name": "HBoxModel",
          "model_module_version": "1.5.0",
          "state": {
            "_view_name": "HBoxView",
            "_dom_classes": [],
            "_model_name": "HBoxModel",
            "_view_module": "@jupyter-widgets/controls",
            "_model_module_version": "1.5.0",
            "_view_count": null,
            "_view_module_version": "1.5.0",
            "box_style": "",
            "layout": "IPY_MODEL_68ec122a2ddd442287fee0c2cfe6ecbf",
            "_model_module": "@jupyter-widgets/controls",
            "children": [
              "IPY_MODEL_b0efac71cbba400bbff82ccfed5bb3c9",
              "IPY_MODEL_420b999bf1ed42ef918edb54ef65fa02",
              "IPY_MODEL_e1dcd4ba6fdf402abadb68efda284e42"
            ]
          }
        },
        "68ec122a2ddd442287fee0c2cfe6ecbf": {
          "model_module": "@jupyter-widgets/base",
          "model_name": "LayoutModel",
          "model_module_version": "1.2.0",
          "state": {
            "_view_name": "LayoutView",
            "grid_template_rows": null,
            "right": null,
            "justify_content": null,
            "_view_module": "@jupyter-widgets/base",
            "overflow": null,
            "_model_module_version": "1.2.0",
            "_view_count": null,
            "flex_flow": null,
            "width": null,
            "min_width": null,
            "border": null,
            "align_items": null,
            "bottom": null,
            "_model_module": "@jupyter-widgets/base",
            "top": null,
            "grid_column": null,
            "overflow_y": null,
            "overflow_x": null,
            "grid_auto_flow": null,
            "grid_area": null,
            "grid_template_columns": null,
            "flex": null,
            "_model_name": "LayoutModel",
            "justify_items": null,
            "grid_row": null,
            "max_height": null,
            "align_content": null,
            "visibility": null,
            "align_self": null,
            "height": null,
            "min_height": null,
            "padding": null,
            "grid_auto_rows": null,
            "grid_gap": null,
            "max_width": null,
            "order": null,
            "_view_module_version": "1.2.0",
            "grid_template_areas": null,
            "object_position": null,
            "object_fit": null,
            "grid_auto_columns": null,
            "margin": null,
            "display": null,
            "left": null
          }
        },
        "b0efac71cbba400bbff82ccfed5bb3c9": {
          "model_module": "@jupyter-widgets/controls",
          "model_name": "HTMLModel",
          "model_module_version": "1.5.0",
          "state": {
            "_view_name": "HTMLView",
            "style": "IPY_MODEL_0158f242ceec462fb9abf542b9eb5811",
            "_dom_classes": [],
            "description": "",
            "_model_name": "HTMLModel",
            "placeholder": "​",
            "_view_module": "@jupyter-widgets/controls",
            "_model_module_version": "1.5.0",
            "value": "  0%",
            "_view_count": null,
            "_view_module_version": "1.5.0",
            "description_tooltip": null,
            "_model_module": "@jupyter-widgets/controls",
            "layout": "IPY_MODEL_85c62eebd4254789b8a2ee8c7ab4dd0f"
          }
        },
        "420b999bf1ed42ef918edb54ef65fa02": {
          "model_module": "@jupyter-widgets/controls",
          "model_name": "FloatProgressModel",
          "model_module_version": "1.5.0",
          "state": {
            "_view_name": "ProgressView",
            "style": "IPY_MODEL_cefce001433e4cc9b28ef1be1c57d3e9",
            "_dom_classes": [],
            "description": "",
            "_model_name": "FloatProgressModel",
            "bar_style": "danger",
            "max": 1,
            "_view_module": "@jupyter-widgets/controls",
            "_model_module_version": "1.5.0",
            "value": 0,
            "_view_count": null,
            "_view_module_version": "1.5.0",
            "orientation": "horizontal",
            "min": 0,
            "description_tooltip": null,
            "_model_module": "@jupyter-widgets/controls",
            "layout": "IPY_MODEL_bbdd33a8a42542bb98cad7cde248b2c6"
          }
        },
        "e1dcd4ba6fdf402abadb68efda284e42": {
          "model_module": "@jupyter-widgets/controls",
          "model_name": "HTMLModel",
          "model_module_version": "1.5.0",
          "state": {
            "_view_name": "HTMLView",
            "style": "IPY_MODEL_930f978250ba4c1b8e650f74feacb1dc",
            "_dom_classes": [],
            "description": "",
            "_model_name": "HTMLModel",
            "placeholder": "​",
            "_view_module": "@jupyter-widgets/controls",
            "_model_module_version": "1.5.0",
            "value": " 0/1 [05:26&lt;?, ?it/s]",
            "_view_count": null,
            "_view_module_version": "1.5.0",
            "description_tooltip": null,
            "_model_module": "@jupyter-widgets/controls",
            "layout": "IPY_MODEL_7e841b396b964263b79e2141932cddce"
          }
        },
        "0158f242ceec462fb9abf542b9eb5811": {
          "model_module": "@jupyter-widgets/controls",
          "model_name": "DescriptionStyleModel",
          "model_module_version": "1.5.0",
          "state": {
            "_view_name": "StyleView",
            "_model_name": "DescriptionStyleModel",
            "description_width": "",
            "_view_module": "@jupyter-widgets/base",
            "_model_module_version": "1.5.0",
            "_view_count": null,
            "_view_module_version": "1.2.0",
            "_model_module": "@jupyter-widgets/controls"
          }
        },
        "85c62eebd4254789b8a2ee8c7ab4dd0f": {
          "model_module": "@jupyter-widgets/base",
          "model_name": "LayoutModel",
          "model_module_version": "1.2.0",
          "state": {
            "_view_name": "LayoutView",
            "grid_template_rows": null,
            "right": null,
            "justify_content": null,
            "_view_module": "@jupyter-widgets/base",
            "overflow": null,
            "_model_module_version": "1.2.0",
            "_view_count": null,
            "flex_flow": null,
            "width": null,
            "min_width": null,
            "border": null,
            "align_items": null,
            "bottom": null,
            "_model_module": "@jupyter-widgets/base",
            "top": null,
            "grid_column": null,
            "overflow_y": null,
            "overflow_x": null,
            "grid_auto_flow": null,
            "grid_area": null,
            "grid_template_columns": null,
            "flex": null,
            "_model_name": "LayoutModel",
            "justify_items": null,
            "grid_row": null,
            "max_height": null,
            "align_content": null,
            "visibility": null,
            "align_self": null,
            "height": null,
            "min_height": null,
            "padding": null,
            "grid_auto_rows": null,
            "grid_gap": null,
            "max_width": null,
            "order": null,
            "_view_module_version": "1.2.0",
            "grid_template_areas": null,
            "object_position": null,
            "object_fit": null,
            "grid_auto_columns": null,
            "margin": null,
            "display": null,
            "left": null
          }
        },
        "cefce001433e4cc9b28ef1be1c57d3e9": {
          "model_module": "@jupyter-widgets/controls",
          "model_name": "ProgressStyleModel",
          "model_module_version": "1.5.0",
          "state": {
            "_view_name": "StyleView",
            "_model_name": "ProgressStyleModel",
            "description_width": "",
            "_view_module": "@jupyter-widgets/base",
            "_model_module_version": "1.5.0",
            "_view_count": null,
            "_view_module_version": "1.2.0",
            "bar_color": null,
            "_model_module": "@jupyter-widgets/controls"
          }
        },
        "bbdd33a8a42542bb98cad7cde248b2c6": {
          "model_module": "@jupyter-widgets/base",
          "model_name": "LayoutModel",
          "model_module_version": "1.2.0",
          "state": {
            "_view_name": "LayoutView",
            "grid_template_rows": null,
            "right": null,
            "justify_content": null,
            "_view_module": "@jupyter-widgets/base",
            "overflow": null,
            "_model_module_version": "1.2.0",
            "_view_count": null,
            "flex_flow": null,
            "width": null,
            "min_width": null,
            "border": null,
            "align_items": null,
            "bottom": null,
            "_model_module": "@jupyter-widgets/base",
            "top": null,
            "grid_column": null,
            "overflow_y": null,
            "overflow_x": null,
            "grid_auto_flow": null,
            "grid_area": null,
            "grid_template_columns": null,
            "flex": null,
            "_model_name": "LayoutModel",
            "justify_items": null,
            "grid_row": null,
            "max_height": null,
            "align_content": null,
            "visibility": null,
            "align_self": null,
            "height": null,
            "min_height": null,
            "padding": null,
            "grid_auto_rows": null,
            "grid_gap": null,
            "max_width": null,
            "order": null,
            "_view_module_version": "1.2.0",
            "grid_template_areas": null,
            "object_position": null,
            "object_fit": null,
            "grid_auto_columns": null,
            "margin": null,
            "display": null,
            "left": null
          }
        },
        "930f978250ba4c1b8e650f74feacb1dc": {
          "model_module": "@jupyter-widgets/controls",
          "model_name": "DescriptionStyleModel",
          "model_module_version": "1.5.0",
          "state": {
            "_view_name": "StyleView",
            "_model_name": "DescriptionStyleModel",
            "description_width": "",
            "_view_module": "@jupyter-widgets/base",
            "_model_module_version": "1.5.0",
            "_view_count": null,
            "_view_module_version": "1.2.0",
            "_model_module": "@jupyter-widgets/controls"
          }
        },
        "7e841b396b964263b79e2141932cddce": {
          "model_module": "@jupyter-widgets/base",
          "model_name": "LayoutModel",
          "model_module_version": "1.2.0",
          "state": {
            "_view_name": "LayoutView",
            "grid_template_rows": null,
            "right": null,
            "justify_content": null,
            "_view_module": "@jupyter-widgets/base",
            "overflow": null,
            "_model_module_version": "1.2.0",
            "_view_count": null,
            "flex_flow": null,
            "width": null,
            "min_width": null,
            "border": null,
            "align_items": null,
            "bottom": null,
            "_model_module": "@jupyter-widgets/base",
            "top": null,
            "grid_column": null,
            "overflow_y": null,
            "overflow_x": null,
            "grid_auto_flow": null,
            "grid_area": null,
            "grid_template_columns": null,
            "flex": null,
            "_model_name": "LayoutModel",
            "justify_items": null,
            "grid_row": null,
            "max_height": null,
            "align_content": null,
            "visibility": null,
            "align_self": null,
            "height": null,
            "min_height": null,
            "padding": null,
            "grid_auto_rows": null,
            "grid_gap": null,
            "max_width": null,
            "order": null,
            "_view_module_version": "1.2.0",
            "grid_template_areas": null,
            "object_position": null,
            "object_fit": null,
            "grid_auto_columns": null,
            "margin": null,
            "display": null,
            "left": null
          }
        }
      }
    }
  },
  "cells": [
    {
      "cell_type": "markdown",
      "metadata": {
        "id": "view-in-github",
        "colab_type": "text"
      },
      "source": [
        "<a href=\"https://colab.research.google.com/github/mvgarcia/Reto-WJ/blob/main/modelo_resnet.ipynb\" target=\"_parent\"><img src=\"https://colab.research.google.com/assets/colab-badge.svg\" alt=\"Open In Colab\"/></a>"
      ]
    },
    {
      "cell_type": "markdown",
      "metadata": {
        "id": "cnN9UD5qQryy"
      },
      "source": [
        "##Preparación de los datos"
      ]
    },
    {
      "cell_type": "markdown",
      "metadata": {
        "id": "Fyyswb2Yfgcd"
      },
      "source": [
        "Instalamos en primer lugar hiddenlayer"
      ]
    },
    {
      "cell_type": "code",
      "metadata": {
        "colab": {
          "base_uri": "https://localhost:8080/"
        },
        "id": "7ouZhnBPffq2",
        "outputId": "2b306dce-3bac-4fe9-e1c9-cf50a850c09a"
      },
      "source": [
        "!pip install hiddenlayer"
      ],
      "execution_count": null,
      "outputs": [
        {
          "output_type": "stream",
          "name": "stdout",
          "text": [
            "Collecting hiddenlayer\n",
            "  Downloading hiddenlayer-0.3-py3-none-any.whl (19 kB)\n",
            "Installing collected packages: hiddenlayer\n",
            "Successfully installed hiddenlayer-0.3\n"
          ]
        }
      ]
    },
    {
      "cell_type": "markdown",
      "metadata": {
        "id": "r-LpoXkhBYxN"
      },
      "source": [
        "Importamos drive"
      ]
    },
    {
      "cell_type": "code",
      "metadata": {
        "colab": {
          "base_uri": "https://localhost:8080/"
        },
        "id": "Axc2JfhDI-mk",
        "outputId": "bb55344b-b523-44bb-b70e-0add39dc802c"
      },
      "source": [
        "from google.colab import drive\n",
        "drive.mount('/content/drive')"
      ],
      "execution_count": null,
      "outputs": [
        {
          "output_type": "stream",
          "name": "stdout",
          "text": [
            "Mounted at /content/drive\n"
          ]
        }
      ]
    },
    {
      "cell_type": "markdown",
      "metadata": {
        "id": "xnLfofMSBtVM"
      },
      "source": [
        "Importamos las librerías necesarias"
      ]
    },
    {
      "cell_type": "code",
      "metadata": {
        "id": "zbs3GpFOBaNT"
      },
      "source": [
        "import matplotlib.pyplot as plt\n",
        "from glob import glob\n",
        "import numpy as np\n",
        "from PIL import Image\n",
        "import torch\n",
        "from torch.autograd import Variable\n",
        "import hiddenlayer as hl\n",
        "from sklearn.metrics import f1_score\n",
        "from sklearn.metrics import confusion_matrix\n",
        "import torchvision.transforms as transforms\n",
        "import torchvision\n",
        "import torch.utils.data as data\n",
        "import matplotlib.pyplot as plt\n",
        "from tqdm.notebook import tqdm"
      ],
      "execution_count": null,
      "outputs": []
    },
    {
      "cell_type": "markdown",
      "metadata": {
        "id": "XeJjR5vILaWS"
      },
      "source": [
        "Cargamos los datos de entrenamiento y de testeo para convertir todas las imágenes a 3 canales."
      ]
    },
    {
      "cell_type": "code",
      "metadata": {
        "colab": {
          "base_uri": "https://localhost:8080/"
        },
        "id": "oFu2MHZcLZFa",
        "outputId": "2fb8d1aa-c1bf-4f07-af22-a953ceb342d3"
      },
      "source": [
        "train_files = glob('/content/drive/MyDrive/Reto/data/train/*/*.png')\n",
        "test_files = glob('/content/drive/MyDrive/Reto/data/test/*/*.png')\n",
        "\n",
        "print(len(train_files), len(test_files))"
      ],
      "execution_count": null,
      "outputs": [
        {
          "output_type": "stream",
          "name": "stdout",
          "text": [
            "11340 1256\n"
          ]
        }
      ]
    },
    {
      "cell_type": "markdown",
      "metadata": {
        "id": "FXVCCiADLmuq"
      },
      "source": [
        "Convertimos todas las imágenes del train y del test a RGB (Las que estén en blanco y negro se volverán de 3 canales)"
      ]
    },
    {
      "cell_type": "code",
      "metadata": {
        "id": "PBO6hVM0LmCS"
      },
      "source": [
        "for train_file in tqdm(train_files):\n",
        "  if len(np.array(Image.open(train_file)).shape) == 2:\n",
        "    Image.open(train_file).convert('RGB').save('{}'.format(train_file))"
      ],
      "execution_count": null,
      "outputs": []
    },
    {
      "cell_type": "code",
      "metadata": {
        "colab": {
          "base_uri": "https://localhost:8080/",
          "height": 49,
          "referenced_widgets": [
            "d4d7575bec6a4de79d2fb7cae3ee7eed",
            "508894e5cc0d4e5eb485c188b7cb833f",
            "07e368a1cd4a47bc97703ab8cf1bee71",
            "1458f62f404d424bbbde0df1a1a09275",
            "d875f52c838b48cea001e5e26e28723e",
            "6a4bf1241f054ea3b02a9110e658250d",
            "d305d2dd04b2494e98599dc3153f0b66",
            "a5d1081d2d784d7e9c8ef0d903b321cf",
            "13aa58192ef7497d8171215c0e3d2aa4",
            "95cd961560714357b03802bb96c495eb",
            "6637f93277574a1780ad412b798132c8"
          ]
        },
        "id": "kZSVqNSsSoJa",
        "outputId": "adf40f06-f6b9-4d2c-c57d-cd6d1886bfb2"
      },
      "source": [
        "for test_file in tqdm(test_files):\n",
        "  if len(np.array(Image.open(test_file)).shape) == 2:\n",
        "    Image.open(test_file).convert('RGB').save('{}'.format(test_file))"
      ],
      "execution_count": null,
      "outputs": [
        {
          "data": {
            "application/vnd.jupyter.widget-view+json": {
              "model_id": "d4d7575bec6a4de79d2fb7cae3ee7eed",
              "version_major": 2,
              "version_minor": 0
            },
            "text/plain": [
              "  0%|          | 0/1256 [00:00<?, ?it/s]"
            ]
          },
          "metadata": {},
          "output_type": "display_data"
        }
      ]
    },
    {
      "cell_type": "markdown",
      "metadata": {
        "id": "RCJRBrO7Ch1E"
      },
      "source": [
        "Ya que vamos a utilizar ResNet, al momento de cargar los datos en el modelo debemos primero reescalarlos a la entrada de la CNN (244,244,3). Reescalamos entonces las imágenes y las convertimos a tensores."
      ]
    },
    {
      "cell_type": "code",
      "metadata": {
        "id": "ptZdXjduCT0M"
      },
      "source": [
        "data_transform = transforms.Compose([\n",
        "                 transforms.Resize((224, 224)),\n",
        "                 transforms.ToTensor()\n",
        "                 ])"
      ],
      "execution_count": null,
      "outputs": []
    },
    {
      "cell_type": "markdown",
      "metadata": {
        "id": "XeZlSy97DLGc"
      },
      "source": [
        "Cargamos ahora los data loaders, tanto el de los datos de testeo como el de los de entrenamiento con un batch de 8."
      ]
    },
    {
      "cell_type": "code",
      "metadata": {
        "id": "JvUltLxsrSbk"
      },
      "source": [
        "batch_size = 200\n",
        "\n",
        "train_data = torchvision.datasets.ImageFolder('/content/drive/MyDrive/Reto/data/train/', transform=data_transform)\n",
        "train_data_loader = data.DataLoader(train_data, batch_size=batch_size, shuffle=True)\n",
        "\n",
        "test_data = torchvision.datasets.ImageFolder('/content/drive/MyDrive/Reto/data/test/', transform=data_transform)       \n",
        "test_data_loader = data.DataLoader(test_data, batch_size=len(test_files), shuffle=True)"
      ],
      "execution_count": null,
      "outputs": []
    },
    {
      "cell_type": "code",
      "metadata": {
        "colab": {
          "base_uri": "https://localhost:8080/",
          "height": 377,
          "referenced_widgets": [
            "51fc0d27810643dcbe920fbb3e09632c",
            "68ec122a2ddd442287fee0c2cfe6ecbf",
            "b0efac71cbba400bbff82ccfed5bb3c9",
            "420b999bf1ed42ef918edb54ef65fa02",
            "e1dcd4ba6fdf402abadb68efda284e42",
            "0158f242ceec462fb9abf542b9eb5811",
            "85c62eebd4254789b8a2ee8c7ab4dd0f",
            "cefce001433e4cc9b28ef1be1c57d3e9",
            "bbdd33a8a42542bb98cad7cde248b2c6",
            "930f978250ba4c1b8e650f74feacb1dc",
            "7e841b396b964263b79e2141932cddce"
          ]
        },
        "id": "S-8e7SCp0aqz",
        "outputId": "135e421a-5472-4657-f021-f98293be5834"
      },
      "source": [
        "for i, l in tqdm(test_data_loader):\n",
        "  break\n",
        "plt.imshow(i[0].permute(1,2,0))"
      ],
      "execution_count": null,
      "outputs": [
        {
          "output_type": "display_data",
          "data": {
            "application/vnd.jupyter.widget-view+json": {
              "model_id": "51fc0d27810643dcbe920fbb3e09632c",
              "version_minor": 0,
              "version_major": 2
            },
            "text/plain": [
              "  0%|          | 0/1 [00:00<?, ?it/s]"
            ]
          },
          "metadata": {}
        },
        {
          "output_type": "error",
          "ename": "KeyboardInterrupt",
          "evalue": "ignored",
          "traceback": [
            "\u001b[0;31m---------------------------------------------------------------------------\u001b[0m",
            "\u001b[0;31mKeyboardInterrupt\u001b[0m                         Traceback (most recent call last)",
            "\u001b[0;32m<ipython-input-13-495b18671e76>\u001b[0m in \u001b[0;36m<module>\u001b[0;34m()\u001b[0m\n\u001b[0;32m----> 1\u001b[0;31m \u001b[0;32mfor\u001b[0m \u001b[0mi\u001b[0m\u001b[0;34m,\u001b[0m \u001b[0ml\u001b[0m \u001b[0;32min\u001b[0m \u001b[0mtqdm\u001b[0m\u001b[0;34m(\u001b[0m\u001b[0mtest_data_loader\u001b[0m\u001b[0;34m)\u001b[0m\u001b[0;34m:\u001b[0m\u001b[0;34m\u001b[0m\u001b[0;34m\u001b[0m\u001b[0m\n\u001b[0m\u001b[1;32m      2\u001b[0m   \u001b[0;32mbreak\u001b[0m\u001b[0;34m\u001b[0m\u001b[0;34m\u001b[0m\u001b[0m\n\u001b[1;32m      3\u001b[0m \u001b[0mplt\u001b[0m\u001b[0;34m.\u001b[0m\u001b[0mimshow\u001b[0m\u001b[0;34m(\u001b[0m\u001b[0mi\u001b[0m\u001b[0;34m[\u001b[0m\u001b[0;36m0\u001b[0m\u001b[0;34m]\u001b[0m\u001b[0;34m.\u001b[0m\u001b[0mpermute\u001b[0m\u001b[0;34m(\u001b[0m\u001b[0;36m1\u001b[0m\u001b[0;34m,\u001b[0m\u001b[0;36m2\u001b[0m\u001b[0;34m,\u001b[0m\u001b[0;36m0\u001b[0m\u001b[0;34m)\u001b[0m\u001b[0;34m)\u001b[0m\u001b[0;34m\u001b[0m\u001b[0;34m\u001b[0m\u001b[0m\n",
            "\u001b[0;32m/usr/local/lib/python3.7/dist-packages/tqdm/notebook.py\u001b[0m in \u001b[0;36m__iter__\u001b[0;34m(self)\u001b[0m\n\u001b[1;32m    255\u001b[0m     \u001b[0;32mdef\u001b[0m \u001b[0m__iter__\u001b[0m\u001b[0;34m(\u001b[0m\u001b[0mself\u001b[0m\u001b[0;34m)\u001b[0m\u001b[0;34m:\u001b[0m\u001b[0;34m\u001b[0m\u001b[0;34m\u001b[0m\u001b[0m\n\u001b[1;32m    256\u001b[0m         \u001b[0;32mtry\u001b[0m\u001b[0;34m:\u001b[0m\u001b[0;34m\u001b[0m\u001b[0;34m\u001b[0m\u001b[0m\n\u001b[0;32m--> 257\u001b[0;31m             \u001b[0;32mfor\u001b[0m \u001b[0mobj\u001b[0m \u001b[0;32min\u001b[0m \u001b[0msuper\u001b[0m\u001b[0;34m(\u001b[0m\u001b[0mtqdm_notebook\u001b[0m\u001b[0;34m,\u001b[0m \u001b[0mself\u001b[0m\u001b[0;34m)\u001b[0m\u001b[0;34m.\u001b[0m\u001b[0m__iter__\u001b[0m\u001b[0;34m(\u001b[0m\u001b[0;34m)\u001b[0m\u001b[0;34m:\u001b[0m\u001b[0;34m\u001b[0m\u001b[0;34m\u001b[0m\u001b[0m\n\u001b[0m\u001b[1;32m    258\u001b[0m                 \u001b[0;31m# return super(tqdm...) will not catch exception\u001b[0m\u001b[0;34m\u001b[0m\u001b[0;34m\u001b[0m\u001b[0;34m\u001b[0m\u001b[0m\n\u001b[1;32m    259\u001b[0m                 \u001b[0;32myield\u001b[0m \u001b[0mobj\u001b[0m\u001b[0;34m\u001b[0m\u001b[0;34m\u001b[0m\u001b[0m\n",
            "\u001b[0;32m/usr/local/lib/python3.7/dist-packages/tqdm/std.py\u001b[0m in \u001b[0;36m__iter__\u001b[0;34m(self)\u001b[0m\n\u001b[1;32m   1178\u001b[0m \u001b[0;34m\u001b[0m\u001b[0m\n\u001b[1;32m   1179\u001b[0m         \u001b[0;32mtry\u001b[0m\u001b[0;34m:\u001b[0m\u001b[0;34m\u001b[0m\u001b[0;34m\u001b[0m\u001b[0m\n\u001b[0;32m-> 1180\u001b[0;31m             \u001b[0;32mfor\u001b[0m \u001b[0mobj\u001b[0m \u001b[0;32min\u001b[0m \u001b[0miterable\u001b[0m\u001b[0;34m:\u001b[0m\u001b[0;34m\u001b[0m\u001b[0;34m\u001b[0m\u001b[0m\n\u001b[0m\u001b[1;32m   1181\u001b[0m                 \u001b[0;32myield\u001b[0m \u001b[0mobj\u001b[0m\u001b[0;34m\u001b[0m\u001b[0;34m\u001b[0m\u001b[0m\n\u001b[1;32m   1182\u001b[0m                 \u001b[0;31m# Update and possibly print the progressbar.\u001b[0m\u001b[0;34m\u001b[0m\u001b[0;34m\u001b[0m\u001b[0;34m\u001b[0m\u001b[0m\n",
            "\u001b[0;32m/usr/local/lib/python3.7/dist-packages/torch/utils/data/dataloader.py\u001b[0m in \u001b[0;36m__next__\u001b[0;34m(self)\u001b[0m\n\u001b[1;32m    519\u001b[0m             \u001b[0;32mif\u001b[0m \u001b[0mself\u001b[0m\u001b[0;34m.\u001b[0m\u001b[0m_sampler_iter\u001b[0m \u001b[0;32mis\u001b[0m \u001b[0;32mNone\u001b[0m\u001b[0;34m:\u001b[0m\u001b[0;34m\u001b[0m\u001b[0;34m\u001b[0m\u001b[0m\n\u001b[1;32m    520\u001b[0m                 \u001b[0mself\u001b[0m\u001b[0;34m.\u001b[0m\u001b[0m_reset\u001b[0m\u001b[0;34m(\u001b[0m\u001b[0;34m)\u001b[0m\u001b[0;34m\u001b[0m\u001b[0;34m\u001b[0m\u001b[0m\n\u001b[0;32m--> 521\u001b[0;31m             \u001b[0mdata\u001b[0m \u001b[0;34m=\u001b[0m \u001b[0mself\u001b[0m\u001b[0;34m.\u001b[0m\u001b[0m_next_data\u001b[0m\u001b[0;34m(\u001b[0m\u001b[0;34m)\u001b[0m\u001b[0;34m\u001b[0m\u001b[0;34m\u001b[0m\u001b[0m\n\u001b[0m\u001b[1;32m    522\u001b[0m             \u001b[0mself\u001b[0m\u001b[0;34m.\u001b[0m\u001b[0m_num_yielded\u001b[0m \u001b[0;34m+=\u001b[0m \u001b[0;36m1\u001b[0m\u001b[0;34m\u001b[0m\u001b[0;34m\u001b[0m\u001b[0m\n\u001b[1;32m    523\u001b[0m             \u001b[0;32mif\u001b[0m \u001b[0mself\u001b[0m\u001b[0;34m.\u001b[0m\u001b[0m_dataset_kind\u001b[0m \u001b[0;34m==\u001b[0m \u001b[0m_DatasetKind\u001b[0m\u001b[0;34m.\u001b[0m\u001b[0mIterable\u001b[0m \u001b[0;32mand\u001b[0m\u001b[0;31m \u001b[0m\u001b[0;31m\\\u001b[0m\u001b[0;34m\u001b[0m\u001b[0;34m\u001b[0m\u001b[0m\n",
            "\u001b[0;32m/usr/local/lib/python3.7/dist-packages/torch/utils/data/dataloader.py\u001b[0m in \u001b[0;36m_next_data\u001b[0;34m(self)\u001b[0m\n\u001b[1;32m    559\u001b[0m     \u001b[0;32mdef\u001b[0m \u001b[0m_next_data\u001b[0m\u001b[0;34m(\u001b[0m\u001b[0mself\u001b[0m\u001b[0;34m)\u001b[0m\u001b[0;34m:\u001b[0m\u001b[0;34m\u001b[0m\u001b[0;34m\u001b[0m\u001b[0m\n\u001b[1;32m    560\u001b[0m         \u001b[0mindex\u001b[0m \u001b[0;34m=\u001b[0m \u001b[0mself\u001b[0m\u001b[0;34m.\u001b[0m\u001b[0m_next_index\u001b[0m\u001b[0;34m(\u001b[0m\u001b[0;34m)\u001b[0m  \u001b[0;31m# may raise StopIteration\u001b[0m\u001b[0;34m\u001b[0m\u001b[0;34m\u001b[0m\u001b[0m\n\u001b[0;32m--> 561\u001b[0;31m         \u001b[0mdata\u001b[0m \u001b[0;34m=\u001b[0m \u001b[0mself\u001b[0m\u001b[0;34m.\u001b[0m\u001b[0m_dataset_fetcher\u001b[0m\u001b[0;34m.\u001b[0m\u001b[0mfetch\u001b[0m\u001b[0;34m(\u001b[0m\u001b[0mindex\u001b[0m\u001b[0;34m)\u001b[0m  \u001b[0;31m# may raise StopIteration\u001b[0m\u001b[0;34m\u001b[0m\u001b[0;34m\u001b[0m\u001b[0m\n\u001b[0m\u001b[1;32m    562\u001b[0m         \u001b[0;32mif\u001b[0m \u001b[0mself\u001b[0m\u001b[0;34m.\u001b[0m\u001b[0m_pin_memory\u001b[0m\u001b[0;34m:\u001b[0m\u001b[0;34m\u001b[0m\u001b[0;34m\u001b[0m\u001b[0m\n\u001b[1;32m    563\u001b[0m             \u001b[0mdata\u001b[0m \u001b[0;34m=\u001b[0m \u001b[0m_utils\u001b[0m\u001b[0;34m.\u001b[0m\u001b[0mpin_memory\u001b[0m\u001b[0;34m.\u001b[0m\u001b[0mpin_memory\u001b[0m\u001b[0;34m(\u001b[0m\u001b[0mdata\u001b[0m\u001b[0;34m)\u001b[0m\u001b[0;34m\u001b[0m\u001b[0;34m\u001b[0m\u001b[0m\n",
            "\u001b[0;32m/usr/local/lib/python3.7/dist-packages/torch/utils/data/_utils/fetch.py\u001b[0m in \u001b[0;36mfetch\u001b[0;34m(self, possibly_batched_index)\u001b[0m\n\u001b[1;32m     42\u001b[0m     \u001b[0;32mdef\u001b[0m \u001b[0mfetch\u001b[0m\u001b[0;34m(\u001b[0m\u001b[0mself\u001b[0m\u001b[0;34m,\u001b[0m \u001b[0mpossibly_batched_index\u001b[0m\u001b[0;34m)\u001b[0m\u001b[0;34m:\u001b[0m\u001b[0;34m\u001b[0m\u001b[0;34m\u001b[0m\u001b[0m\n\u001b[1;32m     43\u001b[0m         \u001b[0;32mif\u001b[0m \u001b[0mself\u001b[0m\u001b[0;34m.\u001b[0m\u001b[0mauto_collation\u001b[0m\u001b[0;34m:\u001b[0m\u001b[0;34m\u001b[0m\u001b[0;34m\u001b[0m\u001b[0m\n\u001b[0;32m---> 44\u001b[0;31m             \u001b[0mdata\u001b[0m \u001b[0;34m=\u001b[0m \u001b[0;34m[\u001b[0m\u001b[0mself\u001b[0m\u001b[0;34m.\u001b[0m\u001b[0mdataset\u001b[0m\u001b[0;34m[\u001b[0m\u001b[0midx\u001b[0m\u001b[0;34m]\u001b[0m \u001b[0;32mfor\u001b[0m \u001b[0midx\u001b[0m \u001b[0;32min\u001b[0m \u001b[0mpossibly_batched_index\u001b[0m\u001b[0;34m]\u001b[0m\u001b[0;34m\u001b[0m\u001b[0;34m\u001b[0m\u001b[0m\n\u001b[0m\u001b[1;32m     45\u001b[0m         \u001b[0;32melse\u001b[0m\u001b[0;34m:\u001b[0m\u001b[0;34m\u001b[0m\u001b[0;34m\u001b[0m\u001b[0m\n\u001b[1;32m     46\u001b[0m             \u001b[0mdata\u001b[0m \u001b[0;34m=\u001b[0m \u001b[0mself\u001b[0m\u001b[0;34m.\u001b[0m\u001b[0mdataset\u001b[0m\u001b[0;34m[\u001b[0m\u001b[0mpossibly_batched_index\u001b[0m\u001b[0;34m]\u001b[0m\u001b[0;34m\u001b[0m\u001b[0;34m\u001b[0m\u001b[0m\n",
            "\u001b[0;32m/usr/local/lib/python3.7/dist-packages/torch/utils/data/_utils/fetch.py\u001b[0m in \u001b[0;36m<listcomp>\u001b[0;34m(.0)\u001b[0m\n\u001b[1;32m     42\u001b[0m     \u001b[0;32mdef\u001b[0m \u001b[0mfetch\u001b[0m\u001b[0;34m(\u001b[0m\u001b[0mself\u001b[0m\u001b[0;34m,\u001b[0m \u001b[0mpossibly_batched_index\u001b[0m\u001b[0;34m)\u001b[0m\u001b[0;34m:\u001b[0m\u001b[0;34m\u001b[0m\u001b[0;34m\u001b[0m\u001b[0m\n\u001b[1;32m     43\u001b[0m         \u001b[0;32mif\u001b[0m \u001b[0mself\u001b[0m\u001b[0;34m.\u001b[0m\u001b[0mauto_collation\u001b[0m\u001b[0;34m:\u001b[0m\u001b[0;34m\u001b[0m\u001b[0;34m\u001b[0m\u001b[0m\n\u001b[0;32m---> 44\u001b[0;31m             \u001b[0mdata\u001b[0m \u001b[0;34m=\u001b[0m \u001b[0;34m[\u001b[0m\u001b[0mself\u001b[0m\u001b[0;34m.\u001b[0m\u001b[0mdataset\u001b[0m\u001b[0;34m[\u001b[0m\u001b[0midx\u001b[0m\u001b[0;34m]\u001b[0m \u001b[0;32mfor\u001b[0m \u001b[0midx\u001b[0m \u001b[0;32min\u001b[0m \u001b[0mpossibly_batched_index\u001b[0m\u001b[0;34m]\u001b[0m\u001b[0;34m\u001b[0m\u001b[0;34m\u001b[0m\u001b[0m\n\u001b[0m\u001b[1;32m     45\u001b[0m         \u001b[0;32melse\u001b[0m\u001b[0;34m:\u001b[0m\u001b[0;34m\u001b[0m\u001b[0;34m\u001b[0m\u001b[0m\n\u001b[1;32m     46\u001b[0m             \u001b[0mdata\u001b[0m \u001b[0;34m=\u001b[0m \u001b[0mself\u001b[0m\u001b[0;34m.\u001b[0m\u001b[0mdataset\u001b[0m\u001b[0;34m[\u001b[0m\u001b[0mpossibly_batched_index\u001b[0m\u001b[0;34m]\u001b[0m\u001b[0;34m\u001b[0m\u001b[0;34m\u001b[0m\u001b[0m\n",
            "\u001b[0;32m/usr/local/lib/python3.7/dist-packages/torchvision/datasets/folder.py\u001b[0m in \u001b[0;36m__getitem__\u001b[0;34m(self, index)\u001b[0m\n\u001b[1;32m    230\u001b[0m         \"\"\"\n\u001b[1;32m    231\u001b[0m         \u001b[0mpath\u001b[0m\u001b[0;34m,\u001b[0m \u001b[0mtarget\u001b[0m \u001b[0;34m=\u001b[0m \u001b[0mself\u001b[0m\u001b[0;34m.\u001b[0m\u001b[0msamples\u001b[0m\u001b[0;34m[\u001b[0m\u001b[0mindex\u001b[0m\u001b[0;34m]\u001b[0m\u001b[0;34m\u001b[0m\u001b[0;34m\u001b[0m\u001b[0m\n\u001b[0;32m--> 232\u001b[0;31m         \u001b[0msample\u001b[0m \u001b[0;34m=\u001b[0m \u001b[0mself\u001b[0m\u001b[0;34m.\u001b[0m\u001b[0mloader\u001b[0m\u001b[0;34m(\u001b[0m\u001b[0mpath\u001b[0m\u001b[0;34m)\u001b[0m\u001b[0;34m\u001b[0m\u001b[0;34m\u001b[0m\u001b[0m\n\u001b[0m\u001b[1;32m    233\u001b[0m         \u001b[0;32mif\u001b[0m \u001b[0mself\u001b[0m\u001b[0;34m.\u001b[0m\u001b[0mtransform\u001b[0m \u001b[0;32mis\u001b[0m \u001b[0;32mnot\u001b[0m \u001b[0;32mNone\u001b[0m\u001b[0;34m:\u001b[0m\u001b[0;34m\u001b[0m\u001b[0;34m\u001b[0m\u001b[0m\n\u001b[1;32m    234\u001b[0m             \u001b[0msample\u001b[0m \u001b[0;34m=\u001b[0m \u001b[0mself\u001b[0m\u001b[0;34m.\u001b[0m\u001b[0mtransform\u001b[0m\u001b[0;34m(\u001b[0m\u001b[0msample\u001b[0m\u001b[0;34m)\u001b[0m\u001b[0;34m\u001b[0m\u001b[0;34m\u001b[0m\u001b[0m\n",
            "\u001b[0;32m/usr/local/lib/python3.7/dist-packages/torchvision/datasets/folder.py\u001b[0m in \u001b[0;36mdefault_loader\u001b[0;34m(path)\u001b[0m\n\u001b[1;32m    267\u001b[0m         \u001b[0;32mreturn\u001b[0m \u001b[0maccimage_loader\u001b[0m\u001b[0;34m(\u001b[0m\u001b[0mpath\u001b[0m\u001b[0;34m)\u001b[0m\u001b[0;34m\u001b[0m\u001b[0;34m\u001b[0m\u001b[0m\n\u001b[1;32m    268\u001b[0m     \u001b[0;32melse\u001b[0m\u001b[0;34m:\u001b[0m\u001b[0;34m\u001b[0m\u001b[0;34m\u001b[0m\u001b[0m\n\u001b[0;32m--> 269\u001b[0;31m         \u001b[0;32mreturn\u001b[0m \u001b[0mpil_loader\u001b[0m\u001b[0;34m(\u001b[0m\u001b[0mpath\u001b[0m\u001b[0;34m)\u001b[0m\u001b[0;34m\u001b[0m\u001b[0;34m\u001b[0m\u001b[0m\n\u001b[0m\u001b[1;32m    270\u001b[0m \u001b[0;34m\u001b[0m\u001b[0m\n\u001b[1;32m    271\u001b[0m \u001b[0;34m\u001b[0m\u001b[0m\n",
            "\u001b[0;32m/usr/local/lib/python3.7/dist-packages/torchvision/datasets/folder.py\u001b[0m in \u001b[0;36mpil_loader\u001b[0;34m(path)\u001b[0m\n\u001b[1;32m    248\u001b[0m     \u001b[0;31m# open path as file to avoid ResourceWarning (https://github.com/python-pillow/Pillow/issues/835)\u001b[0m\u001b[0;34m\u001b[0m\u001b[0;34m\u001b[0m\u001b[0;34m\u001b[0m\u001b[0m\n\u001b[1;32m    249\u001b[0m     \u001b[0;32mwith\u001b[0m \u001b[0mopen\u001b[0m\u001b[0;34m(\u001b[0m\u001b[0mpath\u001b[0m\u001b[0;34m,\u001b[0m \u001b[0;34m'rb'\u001b[0m\u001b[0;34m)\u001b[0m \u001b[0;32mas\u001b[0m \u001b[0mf\u001b[0m\u001b[0;34m:\u001b[0m\u001b[0;34m\u001b[0m\u001b[0;34m\u001b[0m\u001b[0m\n\u001b[0;32m--> 250\u001b[0;31m         \u001b[0mimg\u001b[0m \u001b[0;34m=\u001b[0m \u001b[0mImage\u001b[0m\u001b[0;34m.\u001b[0m\u001b[0mopen\u001b[0m\u001b[0;34m(\u001b[0m\u001b[0mf\u001b[0m\u001b[0;34m)\u001b[0m\u001b[0;34m\u001b[0m\u001b[0;34m\u001b[0m\u001b[0m\n\u001b[0m\u001b[1;32m    251\u001b[0m         \u001b[0;32mreturn\u001b[0m \u001b[0mimg\u001b[0m\u001b[0;34m.\u001b[0m\u001b[0mconvert\u001b[0m\u001b[0;34m(\u001b[0m\u001b[0;34m'RGB'\u001b[0m\u001b[0;34m)\u001b[0m\u001b[0;34m\u001b[0m\u001b[0;34m\u001b[0m\u001b[0m\n\u001b[1;32m    252\u001b[0m \u001b[0;34m\u001b[0m\u001b[0m\n",
            "\u001b[0;32m/usr/local/lib/python3.7/dist-packages/PIL/Image.py\u001b[0m in \u001b[0;36mopen\u001b[0;34m(fp, mode)\u001b[0m\n\u001b[1;32m   2850\u001b[0m         \u001b[0mexclusive_fp\u001b[0m \u001b[0;34m=\u001b[0m \u001b[0;32mTrue\u001b[0m\u001b[0;34m\u001b[0m\u001b[0;34m\u001b[0m\u001b[0m\n\u001b[1;32m   2851\u001b[0m \u001b[0;34m\u001b[0m\u001b[0m\n\u001b[0;32m-> 2852\u001b[0;31m     \u001b[0mprefix\u001b[0m \u001b[0;34m=\u001b[0m \u001b[0mfp\u001b[0m\u001b[0;34m.\u001b[0m\u001b[0mread\u001b[0m\u001b[0;34m(\u001b[0m\u001b[0;36m16\u001b[0m\u001b[0;34m)\u001b[0m\u001b[0;34m\u001b[0m\u001b[0;34m\u001b[0m\u001b[0m\n\u001b[0m\u001b[1;32m   2853\u001b[0m \u001b[0;34m\u001b[0m\u001b[0m\n\u001b[1;32m   2854\u001b[0m     \u001b[0mpreinit\u001b[0m\u001b[0;34m(\u001b[0m\u001b[0;34m)\u001b[0m\u001b[0;34m\u001b[0m\u001b[0;34m\u001b[0m\u001b[0m\n",
            "\u001b[0;31mKeyboardInterrupt\u001b[0m: "
          ]
        }
      ]
    },
    {
      "cell_type": "markdown",
      "metadata": {
        "id": "B8-AdgWwQlZt"
      },
      "source": [
        "##Entrenamiento del modelo"
      ]
    },
    {
      "cell_type": "markdown",
      "metadata": {
        "id": "kIoA3dEZSLVs"
      },
      "source": [
        "Cargamos ResNet18 de la libreria de Torch"
      ]
    },
    {
      "cell_type": "code",
      "metadata": {
        "colab": {
          "base_uri": "https://localhost:8080/"
        },
        "id": "dcihJ9hzQodU",
        "outputId": "d2434483-6e3b-4cf8-e1e1-a02442aa2879"
      },
      "source": [
        "import torch\n",
        "\n",
        "model = torch.hub.load('pytorch/vision', 'resnet18', pretrained=True)\n",
        "model"
      ],
      "execution_count": null,
      "outputs": [
        {
          "output_type": "stream",
          "name": "stderr",
          "text": [
            "Using cache found in /root/.cache/torch/hub/pytorch_vision_master\n"
          ]
        },
        {
          "output_type": "execute_result",
          "data": {
            "text/plain": [
              "ResNet(\n",
              "  (conv1): Conv2d(3, 64, kernel_size=(7, 7), stride=(2, 2), padding=(3, 3), bias=False)\n",
              "  (bn1): BatchNorm2d(64, eps=1e-05, momentum=0.1, affine=True, track_running_stats=True)\n",
              "  (relu): ReLU(inplace=True)\n",
              "  (maxpool): MaxPool2d(kernel_size=3, stride=2, padding=1, dilation=1, ceil_mode=False)\n",
              "  (layer1): Sequential(\n",
              "    (0): BasicBlock(\n",
              "      (conv1): Conv2d(64, 64, kernel_size=(3, 3), stride=(1, 1), padding=(1, 1), bias=False)\n",
              "      (bn1): BatchNorm2d(64, eps=1e-05, momentum=0.1, affine=True, track_running_stats=True)\n",
              "      (relu): ReLU(inplace=True)\n",
              "      (conv2): Conv2d(64, 64, kernel_size=(3, 3), stride=(1, 1), padding=(1, 1), bias=False)\n",
              "      (bn2): BatchNorm2d(64, eps=1e-05, momentum=0.1, affine=True, track_running_stats=True)\n",
              "    )\n",
              "    (1): BasicBlock(\n",
              "      (conv1): Conv2d(64, 64, kernel_size=(3, 3), stride=(1, 1), padding=(1, 1), bias=False)\n",
              "      (bn1): BatchNorm2d(64, eps=1e-05, momentum=0.1, affine=True, track_running_stats=True)\n",
              "      (relu): ReLU(inplace=True)\n",
              "      (conv2): Conv2d(64, 64, kernel_size=(3, 3), stride=(1, 1), padding=(1, 1), bias=False)\n",
              "      (bn2): BatchNorm2d(64, eps=1e-05, momentum=0.1, affine=True, track_running_stats=True)\n",
              "    )\n",
              "  )\n",
              "  (layer2): Sequential(\n",
              "    (0): BasicBlock(\n",
              "      (conv1): Conv2d(64, 128, kernel_size=(3, 3), stride=(2, 2), padding=(1, 1), bias=False)\n",
              "      (bn1): BatchNorm2d(128, eps=1e-05, momentum=0.1, affine=True, track_running_stats=True)\n",
              "      (relu): ReLU(inplace=True)\n",
              "      (conv2): Conv2d(128, 128, kernel_size=(3, 3), stride=(1, 1), padding=(1, 1), bias=False)\n",
              "      (bn2): BatchNorm2d(128, eps=1e-05, momentum=0.1, affine=True, track_running_stats=True)\n",
              "      (downsample): Sequential(\n",
              "        (0): Conv2d(64, 128, kernel_size=(1, 1), stride=(2, 2), bias=False)\n",
              "        (1): BatchNorm2d(128, eps=1e-05, momentum=0.1, affine=True, track_running_stats=True)\n",
              "      )\n",
              "    )\n",
              "    (1): BasicBlock(\n",
              "      (conv1): Conv2d(128, 128, kernel_size=(3, 3), stride=(1, 1), padding=(1, 1), bias=False)\n",
              "      (bn1): BatchNorm2d(128, eps=1e-05, momentum=0.1, affine=True, track_running_stats=True)\n",
              "      (relu): ReLU(inplace=True)\n",
              "      (conv2): Conv2d(128, 128, kernel_size=(3, 3), stride=(1, 1), padding=(1, 1), bias=False)\n",
              "      (bn2): BatchNorm2d(128, eps=1e-05, momentum=0.1, affine=True, track_running_stats=True)\n",
              "    )\n",
              "  )\n",
              "  (layer3): Sequential(\n",
              "    (0): BasicBlock(\n",
              "      (conv1): Conv2d(128, 256, kernel_size=(3, 3), stride=(2, 2), padding=(1, 1), bias=False)\n",
              "      (bn1): BatchNorm2d(256, eps=1e-05, momentum=0.1, affine=True, track_running_stats=True)\n",
              "      (relu): ReLU(inplace=True)\n",
              "      (conv2): Conv2d(256, 256, kernel_size=(3, 3), stride=(1, 1), padding=(1, 1), bias=False)\n",
              "      (bn2): BatchNorm2d(256, eps=1e-05, momentum=0.1, affine=True, track_running_stats=True)\n",
              "      (downsample): Sequential(\n",
              "        (0): Conv2d(128, 256, kernel_size=(1, 1), stride=(2, 2), bias=False)\n",
              "        (1): BatchNorm2d(256, eps=1e-05, momentum=0.1, affine=True, track_running_stats=True)\n",
              "      )\n",
              "    )\n",
              "    (1): BasicBlock(\n",
              "      (conv1): Conv2d(256, 256, kernel_size=(3, 3), stride=(1, 1), padding=(1, 1), bias=False)\n",
              "      (bn1): BatchNorm2d(256, eps=1e-05, momentum=0.1, affine=True, track_running_stats=True)\n",
              "      (relu): ReLU(inplace=True)\n",
              "      (conv2): Conv2d(256, 256, kernel_size=(3, 3), stride=(1, 1), padding=(1, 1), bias=False)\n",
              "      (bn2): BatchNorm2d(256, eps=1e-05, momentum=0.1, affine=True, track_running_stats=True)\n",
              "    )\n",
              "  )\n",
              "  (layer4): Sequential(\n",
              "    (0): BasicBlock(\n",
              "      (conv1): Conv2d(256, 512, kernel_size=(3, 3), stride=(2, 2), padding=(1, 1), bias=False)\n",
              "      (bn1): BatchNorm2d(512, eps=1e-05, momentum=0.1, affine=True, track_running_stats=True)\n",
              "      (relu): ReLU(inplace=True)\n",
              "      (conv2): Conv2d(512, 512, kernel_size=(3, 3), stride=(1, 1), padding=(1, 1), bias=False)\n",
              "      (bn2): BatchNorm2d(512, eps=1e-05, momentum=0.1, affine=True, track_running_stats=True)\n",
              "      (downsample): Sequential(\n",
              "        (0): Conv2d(256, 512, kernel_size=(1, 1), stride=(2, 2), bias=False)\n",
              "        (1): BatchNorm2d(512, eps=1e-05, momentum=0.1, affine=True, track_running_stats=True)\n",
              "      )\n",
              "    )\n",
              "    (1): BasicBlock(\n",
              "      (conv1): Conv2d(512, 512, kernel_size=(3, 3), stride=(1, 1), padding=(1, 1), bias=False)\n",
              "      (bn1): BatchNorm2d(512, eps=1e-05, momentum=0.1, affine=True, track_running_stats=True)\n",
              "      (relu): ReLU(inplace=True)\n",
              "      (conv2): Conv2d(512, 512, kernel_size=(3, 3), stride=(1, 1), padding=(1, 1), bias=False)\n",
              "      (bn2): BatchNorm2d(512, eps=1e-05, momentum=0.1, affine=True, track_running_stats=True)\n",
              "    )\n",
              "  )\n",
              "  (avgpool): AdaptiveAvgPool2d(output_size=(1, 1))\n",
              "  (fc): Linear(in_features=512, out_features=1000, bias=True)\n",
              ")"
            ]
          },
          "metadata": {},
          "execution_count": 59
        }
      ]
    },
    {
      "cell_type": "markdown",
      "metadata": {
        "id": "5xWd1yjCZyRN"
      },
      "source": [
        "Congelamos los pesos para que no se actualicen y modificamos ResNet18 para que la salida sea de 6 clases en vez de 1000."
      ]
    },
    {
      "cell_type": "code",
      "metadata": {
        "id": "XY2jT6tWZfC1"
      },
      "source": [
        "for p in model.parameters():\n",
        "    p.requires_grad = False\n",
        "\n",
        "out_dim = 6\n",
        "\n",
        "model.fc = torch.nn.Sequential(\n",
        "  torch.nn.Linear(model.fc.in_features, out_dim)\n",
        ")\n",
        "\n",
        "model.load_state_dict(model.state_dict())\n",
        "model"
      ],
      "execution_count": null,
      "outputs": []
    },
    {
      "cell_type": "markdown",
      "metadata": {
        "id": "F-gc7dR8aNcF"
      },
      "source": [
        "Definimos utilizando HiddenLayer una forma de visualizar las gráficas de entrenamiento en tiempo real"
      ]
    },
    {
      "cell_type": "code",
      "metadata": {
        "colab": {
          "base_uri": "https://localhost:8080/",
          "height": 292
        },
        "id": "BtzMx5_hadcc",
        "outputId": "4853db56-b14c-4470-f02c-274c64667119"
      },
      "source": [
        "hl.build_graph(model, torch.zeros([64,3,264,264]))"
      ],
      "execution_count": null,
      "outputs": [
        {
          "name": "stderr",
          "output_type": "stream",
          "text": [
            "/usr/local/lib/python3.7/dist-packages/torch/onnx/symbolic_helper.py:715: UserWarning: ONNX export mode is set to inference mode, but operator batch_norm is set to training  mode. The model will be exported in inference, as specified by the export mode.\n",
            "  training_mode + \", as specified by the export mode.\")\n"
          ]
        },
        {
          "data": {
            "image/svg+xml": "<?xml version=\"1.0\" encoding=\"UTF-8\" standalone=\"no\"?>\n<!DOCTYPE svg PUBLIC \"-//W3C//DTD SVG 1.1//EN\"\n \"http://www.w3.org/Graphics/SVG/1.1/DTD/svg11.dtd\">\n<!-- Generated by graphviz version 2.40.1 (20161225.0304)\n -->\n<!-- Title: %3 Pages: 1 -->\n<svg width=\"4726pt\" height=\"162pt\"\n viewBox=\"0.00 0.00 4726.00 162.00\" xmlns=\"http://www.w3.org/2000/svg\" xmlns:xlink=\"http://www.w3.org/1999/xlink\">\n<g id=\"graph0\" class=\"graph\" transform=\"scale(1 1) rotate(0) translate(72 126)\">\n<title>%3</title>\n<polygon fill=\"#ffffff\" stroke=\"transparent\" points=\"-72,36 -72,-126 4654,-126 4654,36 -72,36\"/>\n<!-- /outputs/126 -->\n<g id=\"node1\" class=\"node\">\n<title>/outputs/126</title>\n<polygon fill=\"#e8e8e8\" stroke=\"#000000\" points=\"246,-63 176,-63 176,-27 246,-27 246,-63\"/>\n<text text-anchor=\"start\" x=\"184\" y=\"-42\" font-family=\"Times\" font-size=\"10.00\" fill=\"#000000\">MaxPool3x3</text>\n</g>\n<!-- /outputs/132 -->\n<g id=\"node2\" class=\"node\">\n<title>/outputs/132</title>\n<polygon fill=\"#e8e8e8\" stroke=\"#000000\" points=\"659,-63 605,-63 605,-27 659,-27 659,-63\"/>\n<text text-anchor=\"start\" x=\"623\" y=\"-42\" font-family=\"Times\" font-size=\"10.00\" fill=\"#000000\">Add</text>\n</g>\n<!-- /outputs/126&#45;&gt;/outputs/132 -->\n<g id=\"edge1\" class=\"edge\">\n<title>/outputs/126&#45;&gt;/outputs/132</title>\n<path fill=\"none\" stroke=\"#000000\" d=\"M246.013,-47.3647C257.476,-48.0341 270.276,-48.67 282,-49 409.5051,-52.5888 441.5085,-53.0433 569,-49 577.3328,-48.7357 586.2761,-48.2753 594.7315,-47.7587\"/>\n<polygon fill=\"#000000\" stroke=\"#000000\" points=\"594.9769,-51.2502 604.7292,-47.11 594.5236,-44.2649 594.9769,-51.2502\"/>\n</g>\n<!-- 1652618754112424925 -->\n<g id=\"node22\" class=\"node\">\n<title>1652618754112424925</title>\n<polygon fill=\"#e8e8e8\" stroke=\"#000000\" points=\"422,-40 282,-40 282,-4 422,-4 422,-40\"/>\n<text text-anchor=\"start\" x=\"290\" y=\"-19\" font-family=\"Times\" font-size=\"10.00\" fill=\"#000000\">Conv3x3 &gt; BatchNorm &gt; Relu</text>\n</g>\n<!-- /outputs/126&#45;&gt;1652618754112424925 -->\n<g id=\"edge18\" class=\"edge\">\n<title>/outputs/126&#45;&gt;1652618754112424925</title>\n<path fill=\"none\" stroke=\"#000000\" d=\"M246.2165,-39.2555C254.0988,-37.9697 262.7738,-36.5546 271.6616,-35.1048\"/>\n<polygon fill=\"#000000\" stroke=\"#000000\" points=\"272.4497,-38.5226 281.7558,-33.4583 271.3227,-31.6139 272.4497,-38.5226\"/>\n</g>\n<!-- /outputs/133 -->\n<g id=\"node3\" class=\"node\">\n<title>/outputs/133</title>\n<polygon fill=\"#e8e8e8\" stroke=\"#000000\" points=\"749,-63 695,-63 695,-27 749,-27 749,-63\"/>\n<text text-anchor=\"start\" x=\"712\" y=\"-42\" font-family=\"Times\" font-size=\"10.00\" fill=\"#000000\">Relu</text>\n</g>\n<!-- /outputs/132&#45;&gt;/outputs/133 -->\n<g id=\"edge2\" class=\"edge\">\n<title>/outputs/132&#45;&gt;/outputs/133</title>\n<path fill=\"none\" stroke=\"#000000\" d=\"M659.003,-45C667.0277,-45 675.9665,-45 684.5309,-45\"/>\n<polygon fill=\"#000000\" stroke=\"#000000\" points=\"684.7051,-48.5001 694.705,-45 684.705,-41.5001 684.7051,-48.5001\"/>\n</g>\n<!-- /outputs/139 -->\n<g id=\"node4\" class=\"node\">\n<title>/outputs/139</title>\n<polygon fill=\"#e8e8e8\" stroke=\"#000000\" points=\"1162,-63 1108,-63 1108,-27 1162,-27 1162,-63\"/>\n<text text-anchor=\"start\" x=\"1126\" y=\"-42\" font-family=\"Times\" font-size=\"10.00\" fill=\"#000000\">Add</text>\n</g>\n<!-- /outputs/133&#45;&gt;/outputs/139 -->\n<g id=\"edge3\" class=\"edge\">\n<title>/outputs/133&#45;&gt;/outputs/139</title>\n<path fill=\"none\" stroke=\"#000000\" d=\"M749.2708,-47.11C760.3503,-47.8685 773.2792,-48.6283 785,-49 912.4915,-53.0433 944.5085,-53.0433 1072,-49 1080.3328,-48.7357 1089.2761,-48.2753 1097.7315,-47.7587\"/>\n<polygon fill=\"#000000\" stroke=\"#000000\" points=\"1097.9769,-51.2502 1107.7292,-47.11 1097.5236,-44.2649 1097.9769,-51.2502\"/>\n</g>\n<!-- 3041189818469978516 -->\n<g id=\"node23\" class=\"node\">\n<title>3041189818469978516</title>\n<polygon fill=\"#e8e8e8\" stroke=\"#000000\" points=\"925,-40 785,-40 785,-4 925,-4 925,-40\"/>\n<text text-anchor=\"start\" x=\"793\" y=\"-19\" font-family=\"Times\" font-size=\"10.00\" fill=\"#000000\">Conv3x3 &gt; BatchNorm &gt; Relu</text>\n</g>\n<!-- /outputs/133&#45;&gt;3041189818469978516 -->\n<g id=\"edge19\" class=\"edge\">\n<title>/outputs/133&#45;&gt;3041189818469978516</title>\n<path fill=\"none\" stroke=\"#000000\" d=\"M749.2355,-40.2901C756.9374,-38.9582 765.7341,-37.437 774.8904,-35.8535\"/>\n<polygon fill=\"#000000\" stroke=\"#000000\" points=\"775.675,-39.2699 784.9323,-34.117 774.4821,-32.3723 775.675,-39.2699\"/>\n</g>\n<!-- /outputs/140 -->\n<g id=\"node5\" class=\"node\">\n<title>/outputs/140</title>\n<polygon fill=\"#e8e8e8\" stroke=\"#000000\" points=\"1252,-63 1198,-63 1198,-27 1252,-27 1252,-63\"/>\n<text text-anchor=\"start\" x=\"1215\" y=\"-42\" font-family=\"Times\" font-size=\"10.00\" fill=\"#000000\">Relu</text>\n</g>\n<!-- /outputs/139&#45;&gt;/outputs/140 -->\n<g id=\"edge4\" class=\"edge\">\n<title>/outputs/139&#45;&gt;/outputs/140</title>\n<path fill=\"none\" stroke=\"#000000\" d=\"M1162.003,-45C1170.0277,-45 1178.9665,-45 1187.5309,-45\"/>\n<polygon fill=\"#000000\" stroke=\"#000000\" points=\"1187.7051,-48.5001 1197.705,-45 1187.705,-41.5001 1187.7051,-48.5001\"/>\n</g>\n<!-- 16312012460726178851 -->\n<g id=\"node24\" class=\"node\">\n<title>16312012460726178851</title>\n<polygon fill=\"#e8e8e8\" stroke=\"#000000\" points=\"1428,-88 1288,-88 1288,-52 1428,-52 1428,-88\"/>\n<text text-anchor=\"start\" x=\"1296\" y=\"-67\" font-family=\"Times\" font-size=\"10.00\" fill=\"#000000\">Conv3x3 &gt; BatchNorm &gt; Relu</text>\n</g>\n<!-- /outputs/140&#45;&gt;16312012460726178851 -->\n<g id=\"edge20\" class=\"edge\">\n<title>/outputs/140&#45;&gt;16312012460726178851</title>\n<path fill=\"none\" stroke=\"#000000\" d=\"M1252.2355,-50.1195C1259.9374,-51.5672 1268.7341,-53.2207 1277.8904,-54.9418\"/>\n<polygon fill=\"#000000\" stroke=\"#000000\" points=\"1277.4578,-58.4217 1287.9323,-56.8294 1278.751,-51.5422 1277.4578,-58.4217\"/>\n</g>\n<!-- 12990175723125128247 -->\n<g id=\"node33\" class=\"node\">\n<title>12990175723125128247</title>\n<polygon fill=\"#e8e8e8\" stroke=\"#000000\" points=\"1575,-36 1464,-36 1464,0 1575,0 1575,-36\"/>\n<text text-anchor=\"start\" x=\"1472.5\" y=\"-15\" font-family=\"Times\" font-size=\"10.00\" fill=\"#000000\">Conv1x1 &gt; BatchNorm</text>\n</g>\n<!-- /outputs/140&#45;&gt;12990175723125128247 -->\n<g id=\"edge32\" class=\"edge\">\n<title>/outputs/140&#45;&gt;12990175723125128247</title>\n<path fill=\"none\" stroke=\"#000000\" d=\"M1252.178,-42.5083C1297.6344,-38.3408 1390.327,-29.8427 1453.6821,-24.0342\"/>\n<polygon fill=\"#000000\" stroke=\"#000000\" points=\"1454.3384,-27.4888 1463.9771,-23.0904 1453.6992,-20.5181 1454.3384,-27.4888\"/>\n</g>\n<!-- /outputs/148 -->\n<g id=\"node6\" class=\"node\">\n<title>/outputs/148</title>\n<polygon fill=\"#e8e8e8\" stroke=\"#000000\" points=\"1665,-63 1611,-63 1611,-27 1665,-27 1665,-63\"/>\n<text text-anchor=\"start\" x=\"1629\" y=\"-42\" font-family=\"Times\" font-size=\"10.00\" fill=\"#000000\">Add</text>\n</g>\n<!-- /outputs/149 -->\n<g id=\"node7\" class=\"node\">\n<title>/outputs/149</title>\n<polygon fill=\"#e8e8e8\" stroke=\"#000000\" points=\"1755,-63 1701,-63 1701,-27 1755,-27 1755,-63\"/>\n<text text-anchor=\"start\" x=\"1718\" y=\"-42\" font-family=\"Times\" font-size=\"10.00\" fill=\"#000000\">Relu</text>\n</g>\n<!-- /outputs/148&#45;&gt;/outputs/149 -->\n<g id=\"edge5\" class=\"edge\">\n<title>/outputs/148&#45;&gt;/outputs/149</title>\n<path fill=\"none\" stroke=\"#000000\" d=\"M1665.003,-45C1673.0277,-45 1681.9665,-45 1690.5309,-45\"/>\n<polygon fill=\"#000000\" stroke=\"#000000\" points=\"1690.7051,-48.5001 1700.705,-45 1690.705,-41.5001 1690.7051,-48.5001\"/>\n</g>\n<!-- /outputs/155 -->\n<g id=\"node8\" class=\"node\">\n<title>/outputs/155</title>\n<polygon fill=\"#e8e8e8\" stroke=\"#000000\" points=\"2168,-63 2114,-63 2114,-27 2168,-27 2168,-63\"/>\n<text text-anchor=\"start\" x=\"2132\" y=\"-42\" font-family=\"Times\" font-size=\"10.00\" fill=\"#000000\">Add</text>\n</g>\n<!-- /outputs/149&#45;&gt;/outputs/155 -->\n<g id=\"edge6\" class=\"edge\">\n<title>/outputs/149&#45;&gt;/outputs/155</title>\n<path fill=\"none\" stroke=\"#000000\" d=\"M1755.2708,-47.11C1766.3503,-47.8685 1779.2792,-48.6283 1791,-49 1918.4915,-53.0433 1950.5085,-53.0433 2078,-49 2086.3328,-48.7357 2095.2761,-48.2753 2103.7315,-47.7587\"/>\n<polygon fill=\"#000000\" stroke=\"#000000\" points=\"2103.9769,-51.2502 2113.7292,-47.11 2103.5236,-44.2649 2103.9769,-51.2502\"/>\n</g>\n<!-- 3203300394970401836 -->\n<g id=\"node25\" class=\"node\">\n<title>3203300394970401836</title>\n<polygon fill=\"#e8e8e8\" stroke=\"#000000\" points=\"1931,-40 1791,-40 1791,-4 1931,-4 1931,-40\"/>\n<text text-anchor=\"start\" x=\"1799\" y=\"-19\" font-family=\"Times\" font-size=\"10.00\" fill=\"#000000\">Conv3x3 &gt; BatchNorm &gt; Relu</text>\n</g>\n<!-- /outputs/149&#45;&gt;3203300394970401836 -->\n<g id=\"edge21\" class=\"edge\">\n<title>/outputs/149&#45;&gt;3203300394970401836</title>\n<path fill=\"none\" stroke=\"#000000\" d=\"M1755.2355,-40.2901C1762.9374,-38.9582 1771.7341,-37.437 1780.8904,-35.8535\"/>\n<polygon fill=\"#000000\" stroke=\"#000000\" points=\"1781.675,-39.2699 1790.9323,-34.117 1780.4821,-32.3723 1781.675,-39.2699\"/>\n</g>\n<!-- /outputs/156 -->\n<g id=\"node9\" class=\"node\">\n<title>/outputs/156</title>\n<polygon fill=\"#e8e8e8\" stroke=\"#000000\" points=\"2258,-63 2204,-63 2204,-27 2258,-27 2258,-63\"/>\n<text text-anchor=\"start\" x=\"2221\" y=\"-42\" font-family=\"Times\" font-size=\"10.00\" fill=\"#000000\">Relu</text>\n</g>\n<!-- /outputs/155&#45;&gt;/outputs/156 -->\n<g id=\"edge7\" class=\"edge\">\n<title>/outputs/155&#45;&gt;/outputs/156</title>\n<path fill=\"none\" stroke=\"#000000\" d=\"M2168.003,-45C2176.0277,-45 2184.9665,-45 2193.5309,-45\"/>\n<polygon fill=\"#000000\" stroke=\"#000000\" points=\"2193.7051,-48.5001 2203.705,-45 2193.705,-41.5001 2193.7051,-48.5001\"/>\n</g>\n<!-- 6076684057735772790 -->\n<g id=\"node26\" class=\"node\">\n<title>6076684057735772790</title>\n<polygon fill=\"#e8e8e8\" stroke=\"#000000\" points=\"2434,-88 2294,-88 2294,-52 2434,-52 2434,-88\"/>\n<text text-anchor=\"start\" x=\"2302\" y=\"-67\" font-family=\"Times\" font-size=\"10.00\" fill=\"#000000\">Conv3x3 &gt; BatchNorm &gt; Relu</text>\n</g>\n<!-- /outputs/156&#45;&gt;6076684057735772790 -->\n<g id=\"edge22\" class=\"edge\">\n<title>/outputs/156&#45;&gt;6076684057735772790</title>\n<path fill=\"none\" stroke=\"#000000\" d=\"M2258.2355,-50.1195C2265.9374,-51.5672 2274.7341,-53.2207 2283.8904,-54.9418\"/>\n<polygon fill=\"#000000\" stroke=\"#000000\" points=\"2283.4578,-58.4217 2293.9323,-56.8294 2284.751,-51.5422 2283.4578,-58.4217\"/>\n</g>\n<!-- 3235727089359646459 -->\n<g id=\"node36\" class=\"node\">\n<title>3235727089359646459</title>\n<polygon fill=\"#e8e8e8\" stroke=\"#000000\" points=\"2581,-36 2470,-36 2470,0 2581,0 2581,-36\"/>\n<text text-anchor=\"start\" x=\"2478.5\" y=\"-15\" font-family=\"Times\" font-size=\"10.00\" fill=\"#000000\">Conv1x1 &gt; BatchNorm</text>\n</g>\n<!-- /outputs/156&#45;&gt;3235727089359646459 -->\n<g id=\"edge38\" class=\"edge\">\n<title>/outputs/156&#45;&gt;3235727089359646459</title>\n<path fill=\"none\" stroke=\"#000000\" d=\"M2258.178,-42.5083C2303.6344,-38.3408 2396.327,-29.8427 2459.6821,-24.0342\"/>\n<polygon fill=\"#000000\" stroke=\"#000000\" points=\"2460.3384,-27.4888 2469.9771,-23.0904 2459.6992,-20.5181 2460.3384,-27.4888\"/>\n</g>\n<!-- /outputs/164 -->\n<g id=\"node10\" class=\"node\">\n<title>/outputs/164</title>\n<polygon fill=\"#e8e8e8\" stroke=\"#000000\" points=\"2671,-63 2617,-63 2617,-27 2671,-27 2671,-63\"/>\n<text text-anchor=\"start\" x=\"2635\" y=\"-42\" font-family=\"Times\" font-size=\"10.00\" fill=\"#000000\">Add</text>\n</g>\n<!-- /outputs/165 -->\n<g id=\"node11\" class=\"node\">\n<title>/outputs/165</title>\n<polygon fill=\"#e8e8e8\" stroke=\"#000000\" points=\"2761,-63 2707,-63 2707,-27 2761,-27 2761,-63\"/>\n<text text-anchor=\"start\" x=\"2724\" y=\"-42\" font-family=\"Times\" font-size=\"10.00\" fill=\"#000000\">Relu</text>\n</g>\n<!-- /outputs/164&#45;&gt;/outputs/165 -->\n<g id=\"edge8\" class=\"edge\">\n<title>/outputs/164&#45;&gt;/outputs/165</title>\n<path fill=\"none\" stroke=\"#000000\" d=\"M2671.003,-45C2679.0277,-45 2687.9665,-45 2696.5309,-45\"/>\n<polygon fill=\"#000000\" stroke=\"#000000\" points=\"2696.7051,-48.5001 2706.705,-45 2696.705,-41.5001 2696.7051,-48.5001\"/>\n</g>\n<!-- /outputs/171 -->\n<g id=\"node12\" class=\"node\">\n<title>/outputs/171</title>\n<polygon fill=\"#e8e8e8\" stroke=\"#000000\" points=\"3174,-63 3120,-63 3120,-27 3174,-27 3174,-63\"/>\n<text text-anchor=\"start\" x=\"3138\" y=\"-42\" font-family=\"Times\" font-size=\"10.00\" fill=\"#000000\">Add</text>\n</g>\n<!-- /outputs/165&#45;&gt;/outputs/171 -->\n<g id=\"edge9\" class=\"edge\">\n<title>/outputs/165&#45;&gt;/outputs/171</title>\n<path fill=\"none\" stroke=\"#000000\" d=\"M2761.2708,-47.11C2772.3503,-47.8685 2785.2792,-48.6283 2797,-49 2924.4915,-53.0433 2956.5085,-53.0433 3084,-49 3092.3328,-48.7357 3101.2761,-48.2753 3109.7315,-47.7587\"/>\n<polygon fill=\"#000000\" stroke=\"#000000\" points=\"3109.9769,-51.2502 3119.7292,-47.11 3109.5236,-44.2649 3109.9769,-51.2502\"/>\n</g>\n<!-- 4412259953480068049 -->\n<g id=\"node27\" class=\"node\">\n<title>4412259953480068049</title>\n<polygon fill=\"#e8e8e8\" stroke=\"#000000\" points=\"2937,-40 2797,-40 2797,-4 2937,-4 2937,-40\"/>\n<text text-anchor=\"start\" x=\"2805\" y=\"-19\" font-family=\"Times\" font-size=\"10.00\" fill=\"#000000\">Conv3x3 &gt; BatchNorm &gt; Relu</text>\n</g>\n<!-- /outputs/165&#45;&gt;4412259953480068049 -->\n<g id=\"edge23\" class=\"edge\">\n<title>/outputs/165&#45;&gt;4412259953480068049</title>\n<path fill=\"none\" stroke=\"#000000\" d=\"M2761.2355,-40.2901C2768.9374,-38.9582 2777.7341,-37.437 2786.8904,-35.8535\"/>\n<polygon fill=\"#000000\" stroke=\"#000000\" points=\"2787.675,-39.2699 2796.9323,-34.117 2786.4821,-32.3723 2787.675,-39.2699\"/>\n</g>\n<!-- /outputs/172 -->\n<g id=\"node13\" class=\"node\">\n<title>/outputs/172</title>\n<polygon fill=\"#e8e8e8\" stroke=\"#000000\" points=\"3264,-63 3210,-63 3210,-27 3264,-27 3264,-63\"/>\n<text text-anchor=\"start\" x=\"3227\" y=\"-42\" font-family=\"Times\" font-size=\"10.00\" fill=\"#000000\">Relu</text>\n</g>\n<!-- /outputs/171&#45;&gt;/outputs/172 -->\n<g id=\"edge10\" class=\"edge\">\n<title>/outputs/171&#45;&gt;/outputs/172</title>\n<path fill=\"none\" stroke=\"#000000\" d=\"M3174.003,-45C3182.0277,-45 3190.9665,-45 3199.5309,-45\"/>\n<polygon fill=\"#000000\" stroke=\"#000000\" points=\"3199.7051,-48.5001 3209.705,-45 3199.705,-41.5001 3199.7051,-48.5001\"/>\n</g>\n<!-- 1283974474606287318 -->\n<g id=\"node28\" class=\"node\">\n<title>1283974474606287318</title>\n<polygon fill=\"#e8e8e8\" stroke=\"#000000\" points=\"3440,-88 3300,-88 3300,-52 3440,-52 3440,-88\"/>\n<text text-anchor=\"start\" x=\"3308\" y=\"-67\" font-family=\"Times\" font-size=\"10.00\" fill=\"#000000\">Conv3x3 &gt; BatchNorm &gt; Relu</text>\n</g>\n<!-- /outputs/172&#45;&gt;1283974474606287318 -->\n<g id=\"edge24\" class=\"edge\">\n<title>/outputs/172&#45;&gt;1283974474606287318</title>\n<path fill=\"none\" stroke=\"#000000\" d=\"M3264.2355,-50.1195C3271.9374,-51.5672 3280.7341,-53.2207 3289.8904,-54.9418\"/>\n<polygon fill=\"#000000\" stroke=\"#000000\" points=\"3289.4578,-58.4217 3299.9323,-56.8294 3290.751,-51.5422 3289.4578,-58.4217\"/>\n</g>\n<!-- 11596885702800255167 -->\n<g id=\"node39\" class=\"node\">\n<title>11596885702800255167</title>\n<polygon fill=\"#e8e8e8\" stroke=\"#000000\" points=\"3587,-36 3476,-36 3476,0 3587,0 3587,-36\"/>\n<text text-anchor=\"start\" x=\"3484.5\" y=\"-15\" font-family=\"Times\" font-size=\"10.00\" fill=\"#000000\">Conv1x1 &gt; BatchNorm</text>\n</g>\n<!-- /outputs/172&#45;&gt;11596885702800255167 -->\n<g id=\"edge44\" class=\"edge\">\n<title>/outputs/172&#45;&gt;11596885702800255167</title>\n<path fill=\"none\" stroke=\"#000000\" d=\"M3264.178,-42.5083C3309.6344,-38.3408 3402.327,-29.8427 3465.6821,-24.0342\"/>\n<polygon fill=\"#000000\" stroke=\"#000000\" points=\"3466.3384,-27.4888 3475.9771,-23.0904 3465.6992,-20.5181 3466.3384,-27.4888\"/>\n</g>\n<!-- /outputs/180 -->\n<g id=\"node14\" class=\"node\">\n<title>/outputs/180</title>\n<polygon fill=\"#e8e8e8\" stroke=\"#000000\" points=\"3677,-63 3623,-63 3623,-27 3677,-27 3677,-63\"/>\n<text text-anchor=\"start\" x=\"3641\" y=\"-42\" font-family=\"Times\" font-size=\"10.00\" fill=\"#000000\">Add</text>\n</g>\n<!-- /outputs/181 -->\n<g id=\"node15\" class=\"node\">\n<title>/outputs/181</title>\n<polygon fill=\"#e8e8e8\" stroke=\"#000000\" points=\"3767,-63 3713,-63 3713,-27 3767,-27 3767,-63\"/>\n<text text-anchor=\"start\" x=\"3730\" y=\"-42\" font-family=\"Times\" font-size=\"10.00\" fill=\"#000000\">Relu</text>\n</g>\n<!-- /outputs/180&#45;&gt;/outputs/181 -->\n<g id=\"edge11\" class=\"edge\">\n<title>/outputs/180&#45;&gt;/outputs/181</title>\n<path fill=\"none\" stroke=\"#000000\" d=\"M3677.003,-45C3685.0277,-45 3693.9665,-45 3702.5309,-45\"/>\n<polygon fill=\"#000000\" stroke=\"#000000\" points=\"3702.7051,-48.5001 3712.705,-45 3702.705,-41.5001 3702.7051,-48.5001\"/>\n</g>\n<!-- /outputs/187 -->\n<g id=\"node16\" class=\"node\">\n<title>/outputs/187</title>\n<polygon fill=\"#e8e8e8\" stroke=\"#000000\" points=\"4180,-63 4126,-63 4126,-27 4180,-27 4180,-63\"/>\n<text text-anchor=\"start\" x=\"4144\" y=\"-42\" font-family=\"Times\" font-size=\"10.00\" fill=\"#000000\">Add</text>\n</g>\n<!-- /outputs/181&#45;&gt;/outputs/187 -->\n<g id=\"edge12\" class=\"edge\">\n<title>/outputs/181&#45;&gt;/outputs/187</title>\n<path fill=\"none\" stroke=\"#000000\" d=\"M3767.2708,-47.11C3778.3503,-47.8685 3791.2792,-48.6283 3803,-49 3930.4915,-53.0433 3962.5085,-53.0433 4090,-49 4098.3328,-48.7357 4107.2761,-48.2753 4115.7315,-47.7587\"/>\n<polygon fill=\"#000000\" stroke=\"#000000\" points=\"4115.9769,-51.2502 4125.7292,-47.11 4115.5236,-44.2649 4115.9769,-51.2502\"/>\n</g>\n<!-- 7284432904271225550 -->\n<g id=\"node29\" class=\"node\">\n<title>7284432904271225550</title>\n<polygon fill=\"#e8e8e8\" stroke=\"#000000\" points=\"3943,-40 3803,-40 3803,-4 3943,-4 3943,-40\"/>\n<text text-anchor=\"start\" x=\"3811\" y=\"-19\" font-family=\"Times\" font-size=\"10.00\" fill=\"#000000\">Conv3x3 &gt; BatchNorm &gt; Relu</text>\n</g>\n<!-- /outputs/181&#45;&gt;7284432904271225550 -->\n<g id=\"edge25\" class=\"edge\">\n<title>/outputs/181&#45;&gt;7284432904271225550</title>\n<path fill=\"none\" stroke=\"#000000\" d=\"M3767.2355,-40.2901C3774.9374,-38.9582 3783.7341,-37.437 3792.8904,-35.8535\"/>\n<polygon fill=\"#000000\" stroke=\"#000000\" points=\"3793.675,-39.2699 3802.9323,-34.117 3792.4821,-32.3723 3793.675,-39.2699\"/>\n</g>\n<!-- /outputs/188 -->\n<g id=\"node17\" class=\"node\">\n<title>/outputs/188</title>\n<polygon fill=\"#e8e8e8\" stroke=\"#000000\" points=\"4270,-63 4216,-63 4216,-27 4270,-27 4270,-63\"/>\n<text text-anchor=\"start\" x=\"4233\" y=\"-42\" font-family=\"Times\" font-size=\"10.00\" fill=\"#000000\">Relu</text>\n</g>\n<!-- /outputs/187&#45;&gt;/outputs/188 -->\n<g id=\"edge13\" class=\"edge\">\n<title>/outputs/187&#45;&gt;/outputs/188</title>\n<path fill=\"none\" stroke=\"#000000\" d=\"M4180.003,-45C4188.0277,-45 4196.9665,-45 4205.5309,-45\"/>\n<polygon fill=\"#000000\" stroke=\"#000000\" points=\"4205.7051,-48.5001 4215.705,-45 4205.705,-41.5001 4205.7051,-48.5001\"/>\n</g>\n<!-- /outputs/189 -->\n<g id=\"node18\" class=\"node\">\n<title>/outputs/189</title>\n<polygon fill=\"#e8e8e8\" stroke=\"#000000\" points=\"4402,-63 4306,-63 4306,-27 4402,-27 4402,-63\"/>\n<text text-anchor=\"start\" x=\"4314\" y=\"-42\" font-family=\"Times\" font-size=\"10.00\" fill=\"#000000\">GlobalAveragePool</text>\n</g>\n<!-- /outputs/188&#45;&gt;/outputs/189 -->\n<g id=\"edge14\" class=\"edge\">\n<title>/outputs/188&#45;&gt;/outputs/189</title>\n<path fill=\"none\" stroke=\"#000000\" d=\"M4270.1537,-45C4277.9879,-45 4286.8523,-45 4295.8103,-45\"/>\n<polygon fill=\"#000000\" stroke=\"#000000\" points=\"4295.914,-48.5001 4305.914,-45 4295.914,-41.5001 4295.914,-48.5001\"/>\n</g>\n<!-- /outputs/190 -->\n<g id=\"node19\" class=\"node\">\n<title>/outputs/190</title>\n<polygon fill=\"#e8e8e8\" stroke=\"#000000\" points=\"4492,-63 4438,-63 4438,-27 4492,-27 4492,-63\"/>\n<text text-anchor=\"start\" x=\"4451\" y=\"-42\" font-family=\"Times\" font-size=\"10.00\" fill=\"#000000\">Flatten</text>\n</g>\n<!-- /outputs/189&#45;&gt;/outputs/190 -->\n<g id=\"edge15\" class=\"edge\">\n<title>/outputs/189&#45;&gt;/outputs/190</title>\n<path fill=\"none\" stroke=\"#000000\" d=\"M4402.0406,-45C4410.6921,-45 4419.5898,-45 4427.8723,-45\"/>\n<polygon fill=\"#000000\" stroke=\"#000000\" points=\"4427.9695,-48.5001 4437.9694,-45 4427.9694,-41.5001 4427.9695,-48.5001\"/>\n</g>\n<!-- /outputs/191 -->\n<g id=\"node20\" class=\"node\">\n<title>/outputs/191</title>\n<polygon fill=\"#e8e8e8\" stroke=\"#000000\" points=\"4582,-63 4528,-63 4528,-27 4582,-27 4582,-63\"/>\n<text text-anchor=\"start\" x=\"4542\" y=\"-42\" font-family=\"Times\" font-size=\"10.00\" fill=\"#000000\">Linear</text>\n</g>\n<!-- /outputs/190&#45;&gt;/outputs/191 -->\n<g id=\"edge16\" class=\"edge\">\n<title>/outputs/190&#45;&gt;/outputs/191</title>\n<path fill=\"none\" stroke=\"#000000\" d=\"M4492.003,-45C4500.0277,-45 4508.9665,-45 4517.5309,-45\"/>\n<polygon fill=\"#000000\" stroke=\"#000000\" points=\"4517.7051,-48.5001 4527.705,-45 4517.705,-41.5001 4517.7051,-48.5001\"/>\n</g>\n<!-- 2058784421291926785 -->\n<g id=\"node21\" class=\"node\">\n<title>2058784421291926785</title>\n<polygon fill=\"#e8e8e8\" stroke=\"#000000\" points=\"140,-63 0,-63 0,-27 140,-27 140,-63\"/>\n<text text-anchor=\"start\" x=\"8\" y=\"-42\" font-family=\"Times\" font-size=\"10.00\" fill=\"#000000\">Conv7x7 &gt; BatchNorm &gt; Relu</text>\n</g>\n<!-- 2058784421291926785&#45;&gt;/outputs/126 -->\n<g id=\"edge17\" class=\"edge\">\n<title>2058784421291926785&#45;&gt;/outputs/126</title>\n<path fill=\"none\" stroke=\"#000000\" d=\"M140.0869,-45C148.8344,-45 157.5903,-45 165.816,-45\"/>\n<polygon fill=\"#000000\" stroke=\"#000000\" points=\"165.9111,-48.5001 175.9111,-45 165.911,-41.5001 165.9111,-48.5001\"/>\n</g>\n<!-- 17710187853774607924 -->\n<g id=\"node30\" class=\"node\">\n<title>17710187853774607924</title>\n<polygon fill=\"#e8e8e8\" stroke=\"#000000\" points=\"569,-40 458,-40 458,-4 569,-4 569,-40\"/>\n<text text-anchor=\"start\" x=\"466.5\" y=\"-19\" font-family=\"Times\" font-size=\"10.00\" fill=\"#000000\">Conv3x3 &gt; BatchNorm</text>\n</g>\n<!-- 1652618754112424925&#45;&gt;17710187853774607924 -->\n<g id=\"edge26\" class=\"edge\">\n<title>1652618754112424925&#45;&gt;17710187853774607924</title>\n<path fill=\"none\" stroke=\"#000000\" d=\"M422.3664,-22C430.8268,-22 439.4417,-22 447.8315,-22\"/>\n<polygon fill=\"#000000\" stroke=\"#000000\" points=\"447.928,-25.5001 457.9279,-22 447.9279,-18.5001 447.928,-25.5001\"/>\n</g>\n<!-- 15149984293337749852 -->\n<g id=\"node31\" class=\"node\">\n<title>15149984293337749852</title>\n<polygon fill=\"#e8e8e8\" stroke=\"#000000\" points=\"1072,-40 961,-40 961,-4 1072,-4 1072,-40\"/>\n<text text-anchor=\"start\" x=\"969.5\" y=\"-19\" font-family=\"Times\" font-size=\"10.00\" fill=\"#000000\">Conv3x3 &gt; BatchNorm</text>\n</g>\n<!-- 3041189818469978516&#45;&gt;15149984293337749852 -->\n<g id=\"edge28\" class=\"edge\">\n<title>3041189818469978516&#45;&gt;15149984293337749852</title>\n<path fill=\"none\" stroke=\"#000000\" d=\"M925.3664,-22C933.8268,-22 942.4417,-22 950.8315,-22\"/>\n<polygon fill=\"#000000\" stroke=\"#000000\" points=\"950.928,-25.5001 960.9279,-22 950.9279,-18.5001 950.928,-25.5001\"/>\n</g>\n<!-- 13933289265995265206 -->\n<g id=\"node32\" class=\"node\">\n<title>13933289265995265206</title>\n<polygon fill=\"#e8e8e8\" stroke=\"#000000\" points=\"1575,-90 1464,-90 1464,-54 1575,-54 1575,-90\"/>\n<text text-anchor=\"start\" x=\"1472.5\" y=\"-69\" font-family=\"Times\" font-size=\"10.00\" fill=\"#000000\">Conv3x3 &gt; BatchNorm</text>\n</g>\n<!-- 16312012460726178851&#45;&gt;13933289265995265206 -->\n<g id=\"edge30\" class=\"edge\">\n<title>16312012460726178851&#45;&gt;13933289265995265206</title>\n<path fill=\"none\" stroke=\"#000000\" d=\"M1428.3664,-70.8714C1436.8268,-70.9762 1445.4417,-71.0829 1453.8315,-71.1868\"/>\n<polygon fill=\"#000000\" stroke=\"#000000\" points=\"1453.8853,-74.6876 1463.9279,-71.3118 1453.9721,-67.6881 1453.8853,-74.6876\"/>\n</g>\n<!-- 8603335358475986613 -->\n<g id=\"node34\" class=\"node\">\n<title>8603335358475986613</title>\n<polygon fill=\"#e8e8e8\" stroke=\"#000000\" points=\"2078,-40 1967,-40 1967,-4 2078,-4 2078,-40\"/>\n<text text-anchor=\"start\" x=\"1975.5\" y=\"-19\" font-family=\"Times\" font-size=\"10.00\" fill=\"#000000\">Conv3x3 &gt; BatchNorm</text>\n</g>\n<!-- 3203300394970401836&#45;&gt;8603335358475986613 -->\n<g id=\"edge34\" class=\"edge\">\n<title>3203300394970401836&#45;&gt;8603335358475986613</title>\n<path fill=\"none\" stroke=\"#000000\" d=\"M1931.3664,-22C1939.8268,-22 1948.4417,-22 1956.8315,-22\"/>\n<polygon fill=\"#000000\" stroke=\"#000000\" points=\"1956.928,-25.5001 1966.9279,-22 1956.9279,-18.5001 1956.928,-25.5001\"/>\n</g>\n<!-- 12351122730765858031 -->\n<g id=\"node35\" class=\"node\">\n<title>12351122730765858031</title>\n<polygon fill=\"#e8e8e8\" stroke=\"#000000\" points=\"2581,-90 2470,-90 2470,-54 2581,-54 2581,-90\"/>\n<text text-anchor=\"start\" x=\"2478.5\" y=\"-69\" font-family=\"Times\" font-size=\"10.00\" fill=\"#000000\">Conv3x3 &gt; BatchNorm</text>\n</g>\n<!-- 6076684057735772790&#45;&gt;12351122730765858031 -->\n<g id=\"edge36\" class=\"edge\">\n<title>6076684057735772790&#45;&gt;12351122730765858031</title>\n<path fill=\"none\" stroke=\"#000000\" d=\"M2434.3664,-70.8714C2442.8268,-70.9762 2451.4417,-71.0829 2459.8315,-71.1868\"/>\n<polygon fill=\"#000000\" stroke=\"#000000\" points=\"2459.8853,-74.6876 2469.9279,-71.3118 2459.9721,-67.6881 2459.8853,-74.6876\"/>\n</g>\n<!-- 8352707486157017149 -->\n<g id=\"node37\" class=\"node\">\n<title>8352707486157017149</title>\n<polygon fill=\"#e8e8e8\" stroke=\"#000000\" points=\"3084,-40 2973,-40 2973,-4 3084,-4 3084,-40\"/>\n<text text-anchor=\"start\" x=\"2981.5\" y=\"-19\" font-family=\"Times\" font-size=\"10.00\" fill=\"#000000\">Conv3x3 &gt; BatchNorm</text>\n</g>\n<!-- 4412259953480068049&#45;&gt;8352707486157017149 -->\n<g id=\"edge40\" class=\"edge\">\n<title>4412259953480068049&#45;&gt;8352707486157017149</title>\n<path fill=\"none\" stroke=\"#000000\" d=\"M2937.3664,-22C2945.8268,-22 2954.4417,-22 2962.8315,-22\"/>\n<polygon fill=\"#000000\" stroke=\"#000000\" points=\"2962.928,-25.5001 2972.9279,-22 2962.9279,-18.5001 2962.928,-25.5001\"/>\n</g>\n<!-- 14088292347748412867 -->\n<g id=\"node38\" class=\"node\">\n<title>14088292347748412867</title>\n<polygon fill=\"#e8e8e8\" stroke=\"#000000\" points=\"3587,-90 3476,-90 3476,-54 3587,-54 3587,-90\"/>\n<text text-anchor=\"start\" x=\"3484.5\" y=\"-69\" font-family=\"Times\" font-size=\"10.00\" fill=\"#000000\">Conv3x3 &gt; BatchNorm</text>\n</g>\n<!-- 1283974474606287318&#45;&gt;14088292347748412867 -->\n<g id=\"edge42\" class=\"edge\">\n<title>1283974474606287318&#45;&gt;14088292347748412867</title>\n<path fill=\"none\" stroke=\"#000000\" d=\"M3440.3664,-70.8714C3448.8268,-70.9762 3457.4417,-71.0829 3465.8315,-71.1868\"/>\n<polygon fill=\"#000000\" stroke=\"#000000\" points=\"3465.8853,-74.6876 3475.9279,-71.3118 3465.9721,-67.6881 3465.8853,-74.6876\"/>\n</g>\n<!-- 7724342424016023400 -->\n<g id=\"node40\" class=\"node\">\n<title>7724342424016023400</title>\n<polygon fill=\"#e8e8e8\" stroke=\"#000000\" points=\"4090,-40 3979,-40 3979,-4 4090,-4 4090,-40\"/>\n<text text-anchor=\"start\" x=\"3987.5\" y=\"-19\" font-family=\"Times\" font-size=\"10.00\" fill=\"#000000\">Conv3x3 &gt; BatchNorm</text>\n</g>\n<!-- 7284432904271225550&#45;&gt;7724342424016023400 -->\n<g id=\"edge46\" class=\"edge\">\n<title>7284432904271225550&#45;&gt;7724342424016023400</title>\n<path fill=\"none\" stroke=\"#000000\" d=\"M3943.3664,-22C3951.8268,-22 3960.4417,-22 3968.8315,-22\"/>\n<polygon fill=\"#000000\" stroke=\"#000000\" points=\"3968.928,-25.5001 3978.9279,-22 3968.9279,-18.5001 3968.928,-25.5001\"/>\n</g>\n<!-- 17710187853774607924&#45;&gt;/outputs/132 -->\n<g id=\"edge27\" class=\"edge\">\n<title>17710187853774607924&#45;&gt;/outputs/132</title>\n<path fill=\"none\" stroke=\"#000000\" d=\"M569.2801,-32.8265C577.975,-34.5141 586.77,-36.2212 594.9124,-37.8016\"/>\n<polygon fill=\"#000000\" stroke=\"#000000\" points=\"594.337,-41.2551 604.8207,-39.7247 595.6708,-34.3834 594.337,-41.2551\"/>\n</g>\n<!-- 15149984293337749852&#45;&gt;/outputs/139 -->\n<g id=\"edge29\" class=\"edge\">\n<title>15149984293337749852&#45;&gt;/outputs/139</title>\n<path fill=\"none\" stroke=\"#000000\" d=\"M1072.2801,-32.8265C1080.975,-34.5141 1089.77,-36.2212 1097.9124,-37.8016\"/>\n<polygon fill=\"#000000\" stroke=\"#000000\" points=\"1097.337,-41.2551 1107.8207,-39.7247 1098.6708,-34.3834 1097.337,-41.2551\"/>\n</g>\n<!-- 13933289265995265206&#45;&gt;/outputs/148 -->\n<g id=\"edge31\" class=\"edge\">\n<title>13933289265995265206&#45;&gt;/outputs/148</title>\n<path fill=\"none\" stroke=\"#000000\" d=\"M1575.2801,-59.2906C1583.975,-57.3095 1592.77,-55.3056 1600.9124,-53.4503\"/>\n<polygon fill=\"#000000\" stroke=\"#000000\" points=\"1601.8481,-56.8269 1610.8207,-51.1928 1600.293,-50.0018 1601.8481,-56.8269\"/>\n</g>\n<!-- 12990175723125128247&#45;&gt;/outputs/148 -->\n<g id=\"edge33\" class=\"edge\">\n<title>12990175723125128247&#45;&gt;/outputs/148</title>\n<path fill=\"none\" stroke=\"#000000\" d=\"M1575.2801,-30.7094C1583.975,-32.6905 1592.77,-34.6944 1600.9124,-36.5497\"/>\n<polygon fill=\"#000000\" stroke=\"#000000\" points=\"1600.293,-39.9982 1610.8207,-38.8072 1601.8481,-33.1731 1600.293,-39.9982\"/>\n</g>\n<!-- 8603335358475986613&#45;&gt;/outputs/155 -->\n<g id=\"edge35\" class=\"edge\">\n<title>8603335358475986613&#45;&gt;/outputs/155</title>\n<path fill=\"none\" stroke=\"#000000\" d=\"M2078.2801,-32.8265C2086.975,-34.5141 2095.77,-36.2212 2103.9124,-37.8016\"/>\n<polygon fill=\"#000000\" stroke=\"#000000\" points=\"2103.337,-41.2551 2113.8207,-39.7247 2104.6708,-34.3834 2103.337,-41.2551\"/>\n</g>\n<!-- 12351122730765858031&#45;&gt;/outputs/164 -->\n<g id=\"edge37\" class=\"edge\">\n<title>12351122730765858031&#45;&gt;/outputs/164</title>\n<path fill=\"none\" stroke=\"#000000\" d=\"M2581.2801,-59.2906C2589.975,-57.3095 2598.77,-55.3056 2606.9124,-53.4503\"/>\n<polygon fill=\"#000000\" stroke=\"#000000\" points=\"2607.8481,-56.8269 2616.8207,-51.1928 2606.293,-50.0018 2607.8481,-56.8269\"/>\n</g>\n<!-- 3235727089359646459&#45;&gt;/outputs/164 -->\n<g id=\"edge39\" class=\"edge\">\n<title>3235727089359646459&#45;&gt;/outputs/164</title>\n<path fill=\"none\" stroke=\"#000000\" d=\"M2581.2801,-30.7094C2589.975,-32.6905 2598.77,-34.6944 2606.9124,-36.5497\"/>\n<polygon fill=\"#000000\" stroke=\"#000000\" points=\"2606.293,-39.9982 2616.8207,-38.8072 2607.8481,-33.1731 2606.293,-39.9982\"/>\n</g>\n<!-- 8352707486157017149&#45;&gt;/outputs/171 -->\n<g id=\"edge41\" class=\"edge\">\n<title>8352707486157017149&#45;&gt;/outputs/171</title>\n<path fill=\"none\" stroke=\"#000000\" d=\"M3084.2801,-32.8265C3092.975,-34.5141 3101.77,-36.2212 3109.9124,-37.8016\"/>\n<polygon fill=\"#000000\" stroke=\"#000000\" points=\"3109.337,-41.2551 3119.8207,-39.7247 3110.6708,-34.3834 3109.337,-41.2551\"/>\n</g>\n<!-- 14088292347748412867&#45;&gt;/outputs/180 -->\n<g id=\"edge43\" class=\"edge\">\n<title>14088292347748412867&#45;&gt;/outputs/180</title>\n<path fill=\"none\" stroke=\"#000000\" d=\"M3587.2801,-59.2906C3595.975,-57.3095 3604.77,-55.3056 3612.9124,-53.4503\"/>\n<polygon fill=\"#000000\" stroke=\"#000000\" points=\"3613.8481,-56.8269 3622.8207,-51.1928 3612.293,-50.0018 3613.8481,-56.8269\"/>\n</g>\n<!-- 11596885702800255167&#45;&gt;/outputs/180 -->\n<g id=\"edge45\" class=\"edge\">\n<title>11596885702800255167&#45;&gt;/outputs/180</title>\n<path fill=\"none\" stroke=\"#000000\" d=\"M3587.2801,-30.7094C3595.975,-32.6905 3604.77,-34.6944 3612.9124,-36.5497\"/>\n<polygon fill=\"#000000\" stroke=\"#000000\" points=\"3612.293,-39.9982 3622.8207,-38.8072 3613.8481,-33.1731 3612.293,-39.9982\"/>\n</g>\n<!-- 7724342424016023400&#45;&gt;/outputs/187 -->\n<g id=\"edge47\" class=\"edge\">\n<title>7724342424016023400&#45;&gt;/outputs/187</title>\n<path fill=\"none\" stroke=\"#000000\" d=\"M4090.2801,-32.8265C4098.975,-34.5141 4107.77,-36.2212 4115.9124,-37.8016\"/>\n<polygon fill=\"#000000\" stroke=\"#000000\" points=\"4115.337,-41.2551 4125.8207,-39.7247 4116.6708,-34.3834 4115.337,-41.2551\"/>\n</g>\n</g>\n</svg>\n",
            "text/plain": [
              "<hiddenlayer.graph.Graph at 0x7f042f56d990>"
            ]
          },
          "execution_count": 47,
          "metadata": {},
          "output_type": "execute_result"
        }
      ]
    },
    {
      "cell_type": "markdown",
      "metadata": {
        "id": "1PHB1QiyagwE"
      },
      "source": [
        "Finalmente, ponemos el modelo en modo de entrenamiento y entrenamos"
      ]
    },
    {
      "cell_type": "code",
      "metadata": {
        "colab": {
          "base_uri": "https://localhost:8080/",
          "height": 873
        },
        "id": "fNUh_ArSasUR",
        "outputId": "3996887e-9ad2-45d4-a508-def80b9b1c77"
      },
      "source": [
        "#--- Definimos nuestro criterio de evaluación y el optimizador \n",
        "optimizer = torch.optim.SGD(model.parameters(), lr=0.001, weight_decay=0.1)\n",
        "criterion = torch.nn.CrossEntropyLoss()\n",
        "\n",
        "\n",
        "#--- Entrenamos el modelo usando únicamente 5 épocas\n",
        "n_epochs = 10\n",
        "model.train()\n",
        "\n",
        "history = hl.History()\n",
        "canvas = hl.Canvas()\n",
        "\n",
        "iter = 0\n",
        "\n",
        "for epoch in range(n_epochs):\n",
        "  for batch_idx, (X_train_batch, Y_train_batch) in enumerate(train_data_loader):\n",
        "    # Realiza una predicción\n",
        "    Y_pred = model(X_train_batch)\n",
        "\n",
        "    # Calcula el loss\n",
        "    loss = criterion(Y_pred, Y_train_batch)\n",
        "    Y_pred = torch.argmax(Y_pred, 1)\n",
        "\n",
        "    # Calcula el accuracy\n",
        "    acc = sum(Y_train_batch == Y_pred)/len(Y_pred)\n",
        "    \n",
        "    # Calcula el f1_score\n",
        "    f1 = f1_score(Y_train_batch, Y_pred, average='macro')\n",
        "\n",
        "    # Backpropagation\n",
        "    optimizer.zero_grad()\n",
        "    loss.backward()\n",
        "    optimizer.step()\n",
        "\n",
        "    if iter%10 == 0:\n",
        "        #-- Visualizamos la evolución de los score loss y accuracy\n",
        "        history.log((epoch+1, iter), loss=loss, accuracy=acc, f1_score=f1)\n",
        "        with canvas:\n",
        "          canvas.draw_plot(history[\"loss\"])\n",
        "          canvas.draw_plot(history[\"accuracy\"])\n",
        "          canvas.draw_plot(history[\"f1_score\"])\n",
        "\n",
        "    iter += 1\n",
        "    del X_train_batch, Y_train_batch, Y_pred"
      ],
      "execution_count": null,
      "outputs": [
        {
          "output_type": "display_data",
          "data": {
            "image/png": "[encoded data removed]",
            "text/plain": [
              "<Figure size 864x864 with 3 Axes>"
            ]
          },
          "metadata": {
            "needs_background": "light"
          }
        }
      ]
    },
    {
      "cell_type": "markdown",
      "metadata": {
        "id": "rWd4AgXra0j0"
      },
      "source": [
        "Validamos finalmente el modelo con los datos de testeo"
      ]
    },
    {
      "cell_type": "code",
      "metadata": {
        "colab": {
          "base_uri": "https://localhost:8080/"
        },
        "id": "aeWok-gua9dw",
        "outputId": "837d2142-cb7e-415e-de83-286a33c50211"
      },
      "source": [
        "from sklearn.metrics import f1_score\n",
        "\n",
        "model.eval()\n",
        "\n",
        "Y_pred = model(X_test)\n",
        "loss = criterion(Y_pred,Y_test)\n",
        "\n",
        "Y_pred = torch.argmax(Y_pred, 1)\n",
        "f1 = f1_score(Y_test, Y_pred, average='macro')\n",
        "\n",
        "acc = sum(Y_test == Y_pred)/len(Y_pred)\n",
        "\n",
        "print( 'Loss:{:.2f}, F1:{:.2f}, Acc:{:.2f}'.format(loss.item(), f1, acc ) )"
      ],
      "execution_count": null,
      "outputs": [
        {
          "output_type": "stream",
          "name": "stdout",
          "text": [
            "Loss:1.71, F1:0.17, Acc:0.27\n"
          ]
        }
      ]
    },
    {
      "cell_type": "markdown",
      "metadata": {
        "id": "fUZObdqAbFmt"
      },
      "source": [
        "Y lo guardamos para aprovecharlo eventualmente"
      ]
    },
    {
      "cell_type": "code",
      "metadata": {
        "id": "8NVI0mGXbISl"
      },
      "source": [
        "torch.save(model,open('/content/drive/MyDrive/Reto/modelo/WYJ128Batch0001LR.pt','wb'))"
      ],
      "execution_count": null,
      "outputs": []
    },
    {
      "cell_type": "markdown",
      "metadata": {
        "id": "dARdTQOvx4JM"
      },
      "source": [
        "Y definimos la función de matriz de confusión para analizar los resultados del modelo"
      ]
    },
    {
      "cell_type": "code",
      "metadata": {
        "id": "76yMVAGzxxn8"
      },
      "source": [
        "def CM(Y_true, Y_pred, classes, lclasses=None):\n",
        "  fig = plt.figure(figsize=(10, 10))\n",
        "  cm = confusion_matrix(Y_true, Y_pred)\n",
        "  if lclasses == None:\n",
        "    lclasses = np.arange(0,classes)\n",
        "  cm = cm.astype('float') / cm.sum(axis=1)[:, np.newaxis]\n",
        "  cmap=plt.cm.Blues\n",
        "  ax = fig.add_subplot(1,1,1)\n",
        "  im = ax.imshow(cm, interpolation='nearest', cmap=cmap)\n",
        "  ax.figure.colorbar(im, ax=ax, pad=0.01, shrink=0.86)\n",
        "  ax.set(xticks=np.arange(cm.shape[1]), yticks=np.arange(cm.shape[0]),xticklabels=lclasses, yticklabels=lclasses)\n",
        "  ax.set_xlabel(\"Predicted\",size=20)\n",
        "  ax.set_ylabel(\"True\",size=20)\n",
        "  ax.set_ylim(classes-0.5, -0.5)\n",
        "\n",
        "  plt.setp(ax.get_xticklabels(), size=12)\n",
        "  plt.setp(ax.get_yticklabels(), size=12)\n",
        "\n",
        "  fmt = '.2f'\n",
        "  thresh = cm.max()/2.\n",
        "  for i in range(cm.shape[0]):\n",
        "      for j in range(cm.shape[1]):\n",
        "          ax.text(j, i, format(cm[i, j], fmt),ha=\"center\", va=\"center\",size=15 , color=\"white\" if cm[i, j] > thresh else \"black\")\n",
        "\n",
        "  plt.show()"
      ],
      "execution_count": null,
      "outputs": []
    },
    {
      "cell_type": "markdown",
      "metadata": {
        "id": "WKElL_49x-38"
      },
      "source": [
        "Llamamos a la matriz"
      ]
    },
    {
      "cell_type": "code",
      "metadata": {
        "colab": {
          "base_uri": "https://localhost:8080/",
          "height": 543
        },
        "id": "3wxix8x_x2BF",
        "outputId": "625cb835-5e10-41be-8c1f-99a0684c76d5"
      },
      "source": [
        " CM(Y_test, Y_pred, 6)"
      ],
      "execution_count": null,
      "outputs": [
        {
          "output_type": "display_data",
          "data": {
            "image/png": "[encoded data removed]",
            "text/plain": [
              "<Figure size 720x720 with 2 Axes>"
            ]
          },
          "metadata": {
            "needs_background": "light"
          }
        }
      ]
    },
    {
      "cell_type": "code",
      "metadata": {
        "id": "E0F-CJ2s_uWe"
      },
      "source": [
        "   "
      ],
      "execution_count": null,
      "outputs": []
    }
  ]
}